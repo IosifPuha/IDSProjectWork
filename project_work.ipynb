{
 "cells": [
  {
   "cell_type": "markdown",
   "id": "1d50dd67-d7a5-404b-9d8a-9e010e080fb3",
   "metadata": {
    "tags": []
   },
   "source": [
    "# Progetto Finale di introduzione alla DataScience\n",
    "Con questo notebook ci poniamo l'obiettivo di:\n",
    "1. capire quale sia la categoria di applicazioni avente il massimo rapporto tra numero di recensioni e numero di download (che, da adesso, per brevità, chiameremo nr/nd)\n",
    "\n",
    "2. capire, dentro a questa categoria, se sono generalmente le app a pagamento o quelle free ad avere un nr/nd più alto\n",
    "\n",
    "3. investigare l'esistenza di una eventuale correlazione tra il nr/nd e il rating di una applicazione: se questa metrica cresce, generalmente, il rating aumenterà? Diminuirà? Nessuna delle due? Proveremo a scoprirlo\n",
    "\n",
    "Le ipotesi formulate sono quindi le seguenti:\n",
    "1. immaginiamo che la categoria di applicazioni avente il massimo rapporto tra numero di recensioni e numero di download siano le app di categoria PRODUCTIVITY (e pensiamo che la categoria SOCIAL sia la seconda) \n",
    "2. immaginiamo che, all'interno della categoria trovata, generalmente, le app a pagamento avranno un nr/nd più alto rispetto a quelle free (perché pensiamo che un utente sia più motivato a lasciare una recensione, sia esponendo criticità che punti di forza, quando ha pagato per un prodotto, piuttosto che quando ne ha usufruito gratis)\n",
    "3. immaginiamo che, al crescere del rapporto nr/nd diminuisca il rating (perché pensiamo che, di solito, se la maggior parte degli utilizzatori lascia una recensione, è per criticare qualcosa piuttosto che per esprimere soddisfazione)\n",
    "\n",
    "\n"
   ]
  },
  {
   "cell_type": "markdown",
   "id": "d6f3bc21",
   "metadata": {},
   "source": [
    " <br>Trovare la categoria di app che \"eccelle\" più delle altre in questa metrica potrebbe aiutare, ad esempio, una software house che vuole sviluppare applicazioni particolarmente innovative o che per qualche motivo hanno bisogno di tanti feedback anche dopo varie release: conoscendo i risultati di questa analisi, saprà su quale categoria puntare, avendo trovato la user-base più \"attiva\" possibile."
   ]
  },
  {
   "cell_type": "markdown",
   "id": "3faa32df-d5fd-457c-9569-52aafdfccc65",
   "metadata": {
    "tags": []
   },
   "source": [
    "## Pulizia ed Analisi Iniziale\n"
   ]
  },
  {
   "cell_type": "markdown",
   "id": "e5a1e7fd-3386-4381-bd50-1698f1e5c468",
   "metadata": {
    "jp-MarkdownHeadingCollapsed": true,
    "tags": []
   },
   "source": [
    "### Diamo una occhiata al dataset"
   ]
  },
  {
   "cell_type": "code",
   "execution_count": null,
   "id": "7d3eb4ff-257e-487d-9b0d-47595a7ce254",
   "metadata": {
    "tags": []
   },
   "outputs": [],
   "source": [
    "## importiamo il necessario:\n",
    "import pandas as pd \n",
    "import matplotlib.pyplot as plt \n",
    "import matplotlib.colors as mcolors\n",
    "import numpy as np\n",
    "import scipy.stats as stats\n",
    "import sklearn\n",
    "#importiamo il dataset e visualizziamo prime 5 righe:\n",
    "playstore = pd.read_csv('googleplaystore.csv')\n",
    "playstore.head()"
   ]
  },
  {
   "cell_type": "code",
   "execution_count": null,
   "id": "1a37753c",
   "metadata": {},
   "outputs": [],
   "source": [
    "#visualizziamo numero di righe e colonne:\n",
    "print(\"Numero Righe, Numero Colonne\",playstore.shape)"
   ]
  },
  {
   "cell_type": "code",
   "execution_count": null,
   "id": "0d969e6d",
   "metadata": {},
   "outputs": [],
   "source": [
    "#visualizziamo le informazioni del dataset:\n",
    "playstore.info()"
   ]
  },
  {
   "cell_type": "code",
   "execution_count": null,
   "id": "ef44a01c",
   "metadata": {},
   "outputs": [],
   "source": [
    "#visualizziamo eventuali valori nulli:\n",
    "playstore.isnull().sum()"
   ]
  },
  {
   "cell_type": "markdown",
   "id": "a38fb318",
   "metadata": {},
   "source": [
    "Come vediamo ci sono ben 1474 righe che hanno valore nullo sulla colonna Rating, potremmo pensare di\n",
    "* rimuovere tutte queste righe (e quindi ridurre significativamente la dimensione del nostro dataset)\n",
    "* \"completare\" i valori nulli usando il valore medio del rating.\n",
    "\n",
    "Optiamo per la prima opzione, in quanto la seconda potrebbe portare ad una distorsione dei dati per quanto riguarda l'analisi che ci proponiamo di attuare, infatti, se pensiamo di voler cercare una correlazione tra nr/nd e Rating ed usiamo il valore medio in tutte le righe che presentano attualmente un valore nullo, avremo dei risultati irrealistici in tutte queste righe,\n",
    "\n",
    "#### *esempio*:\n",
    "il rating medio è 2.3, quindi in 1474 entrate avremo il valore 2.3 sulla colonna Rating, ciò significa che poi, quando andremo a cercare una correlazione, potremmo avere:\n",
    "* App 1: rating = 2.3, nr/nd = 40%\n",
    "* App 2: rating = 2.3, nr/nd = 60%\n",
    "* App 3: rating = 2.3, nr/nd = 99%\n",
    "\n",
    "e la nostra analisi è stata inquinata, quando magari, rimuovendo le entrate in cui Rating è nullo avremmo trovato una correlazione"
   ]
  },
  {
   "cell_type": "markdown",
   "id": "a6a9d5b4-bdbb-4a6c-84b5-9cbb2e984a66",
   "metadata": {
    "tags": []
   },
   "source": [
    "### Puliamo il dataset"
   ]
  },
  {
   "cell_type": "code",
   "execution_count": null,
   "id": "4d4863b1",
   "metadata": {},
   "outputs": [],
   "source": [
    "#eliminiamo le righe con valori nulli nella colonna 'Rating':\n",
    "playstore = playstore.dropna(axis=0, subset=['Rating'])\n",
    "playstore.isnull().sum()"
   ]
  },
  {
   "cell_type": "markdown",
   "id": "4c1921f6",
   "metadata": {},
   "source": [
    "Analizzando il dataset individuiamo le caratteristiche che, a nostro parere, dovrebbero essere quantitative:\n",
    "* Rating \n",
    "* Reviews\n",
    "* Installs\n",
    "* Size\n",
    "* Price\n"
   ]
  },
  {
   "cell_type": "code",
   "execution_count": null,
   "id": "4c671fd9",
   "metadata": {},
   "outputs": [],
   "source": [
    "playstore.describe() #visualizziamo statistiche del dataset"
   ]
  },
  {
   "cell_type": "markdown",
   "id": "98cd139e",
   "metadata": {},
   "source": [
    "Notiamo che utilizzando il metodo describe abbiamo informazioni solo sulla colonna Rating, come mai le altre (anche se pensiamo essere quantitative) non vengono mostrate?<br>Perché contengono valori come stringhe."
   ]
  },
  {
   "cell_type": "markdown",
   "id": "4a693d2f-ef2b-473f-8f8c-5eafef49ac02",
   "metadata": {
    "tags": []
   },
   "source": [
    "#### Pulizia righe rumorose\n",
    "Inoltre notiamo qualcosa di \"curioso\" rispetto al valore massimo della colonna Rating, se i rating sul playstore vanno da 1 a 5 stelle, come è possibile che il valore massimo sia 19? C'è una riga problematica nel nostro dataset, che decidiamo di eliminare, in quanto, probabilmente a causa di un errore nel processo di raccolta dei dati, risulta \"disallineata\", ovvero i valori sono spostati di una colonna:"
   ]
  },
  {
   "cell_type": "code",
   "execution_count": null,
   "id": "ec241014",
   "metadata": {},
   "outputs": [],
   "source": [
    "righe_rumorose = playstore[(playstore['Rating']>5) | (playstore['Rating']<1)]\n",
    "print(\"Numero di righe problematiche rispetto al rating: \",righe_rumorose.shape[0]) # controlliamo quante sono, e scopriamo che c'è una sola riga di questo tipo\n",
    "(righe_rumorose.head(1)) # quindi la visualizziamo con head"
   ]
  },
  {
   "cell_type": "markdown",
   "id": "41b486bf",
   "metadata": {},
   "source": [
    "I valori risultano chiaramente spostati di una colonna (dovrebbe essere Rating = 1.9, Reviews=19, Size = 3.0M, eccetera), ma se volessimo \"sistemare\" questa colonna ci troveremmo con un valore nullo dentro alla colonna Category, il che non ci fa comodo perché vogliamo fare l'analisi proprio su questa colonna. Quindi decidiamo di eliminare interamente la riga."
   ]
  },
  {
   "cell_type": "code",
   "execution_count": null,
   "id": "48d08bb6",
   "metadata": {},
   "outputs": [],
   "source": [
    "(playstore.describe()) # prima di eliminarla, ri-visualizziamo le statistiche del dataset\n"
   ]
  },
  {
   "cell_type": "code",
   "execution_count": null,
   "id": "d4a22b77",
   "metadata": {},
   "outputs": [],
   "source": [
    "playstore = playstore.drop(righe_rumorose.index, axis=0) # eliminiamo la riga rumorosa\n",
    "playstore.describe() # visualizziamo le statistiche del dataset dopo aver eliminato la riga rumorosa"
   ]
  },
  {
   "cell_type": "markdown",
   "id": "6e00ea43",
   "metadata": {
    "tags": []
   },
   "source": [
    "#### Pulizia dei valori duplicati"
   ]
  },
  {
   "cell_type": "code",
   "execution_count": null,
   "id": "9932748d",
   "metadata": {},
   "outputs": [],
   "source": [
    "#visualizziamo il numero di valori duplicati quindi con lo stesso valore sotto la colonna app:\n",
    "print(\"Numero di valori duplicati: \",playstore.duplicated(subset=['App']).sum())\n",
    "#eliminiamo i valori duplicati:\n",
    "playstore = playstore.drop_duplicates(subset=['App'])\n",
    "#verifichiamo che non ci siano più valori duplicati:\n",
    "print(\"Numero di valori duplicati: \",playstore.duplicated(subset=['App']).sum())\n"
   ]
  },
  {
   "cell_type": "markdown",
   "id": "18cbd98a",
   "metadata": {},
   "source": [
    "Torniamo sulle variabili Install, Reviews, Price e Size, che dovrebbero risultare quantitative ma non accade. Prima di tutto guardiamo il tipo"
   ]
  },
  {
   "cell_type": "code",
   "execution_count": null,
   "id": "2f6075e5",
   "metadata": {},
   "outputs": [],
   "source": [
    "print(\"Tipo di Installs:\\t\" + str(type(playstore['Installs'][0])))\n",
    "print(\"Tipo di Reviews:\\t\" + str(type(playstore['Reviews'][0])))\n",
    "print(\"Tipo di Price:\\t\\t\" + str(type(playstore['Price'][0])))\n",
    "print(\"Tipo di Size:\\t\\t\" + str(type(playstore['Size'][0])))"
   ]
  },
  {
   "cell_type": "markdown",
   "id": "b886b599",
   "metadata": {},
   "source": [
    "Notiamo che sono appunto tutte stringhe.\n",
    "Le uniche colonne che però ci interessa realmente pulire e \"rendere quantitative\" sono: Installs e Reviews, in quanto Price e Size non giocano alcun ruolo nella nostra analisi."
   ]
  },
  {
   "cell_type": "markdown",
   "id": "2085fb30-d858-4b39-87cc-553c379089e5",
   "metadata": {
    "tags": []
   },
   "source": [
    "#### Trasformiamo Installs\n",
    "Installs contiene valore in formato stringa perché il numero di download è espresso nella forma n+, per indicare che l'app è stata scaricata \"più di n volte\""
   ]
  },
  {
   "cell_type": "code",
   "execution_count": null,
   "id": "20517d6d",
   "metadata": {},
   "outputs": [],
   "source": [
    "if(type(playstore['Installs'][0]) is str):\n",
    "    playstore['Installs'] = [int(x.replace('+','').replace(',','')) for x in playstore['Installs']]\n",
    "# ri-controlliamo le statistiche:\n",
    "playstore.describe()"
   ]
  },
  {
   "cell_type": "markdown",
   "id": "eadd5414",
   "metadata": {},
   "source": [
    "#### Trasformiamo Reviews\n",
    "Reviews contiene valore in formato stringa, lo trasformiamo in numero"
   ]
  },
  {
   "cell_type": "code",
   "execution_count": null,
   "id": "ed56adc5",
   "metadata": {},
   "outputs": [],
   "source": [
    "if(type(playstore['Reviews'][0]) is str):\n",
    "    playstore['Reviews'] = playstore['Reviews'].astype(int)\n",
    "# ri-controlliamo le statistiche:\n",
    "playstore.describe()"
   ]
  },
  {
   "cell_type": "markdown",
   "id": "2ced4c31",
   "metadata": {},
   "source": [
    "#### Drop di colonne che non utilizzeremo\n",
    "Per completare la pulizia, infine, eliminiamo dal dataset le colonne Price e Size (menzionate sopra) e Content Rating, Genres, Last Updated, Current Ver e Android Ver perché di nulla utilità rispetto al nostro obiettivo"
   ]
  },
  {
   "cell_type": "code",
   "execution_count": null,
   "id": "9f753cb6",
   "metadata": {},
   "outputs": [],
   "source": [
    "playstore.drop(columns=['Price', 'Size', 'Content Rating', 'Genres', 'Last Updated', 'Current Ver', 'Android Ver'], inplace=True)\n",
    "playstore.info()\n"
   ]
  },
  {
   "cell_type": "markdown",
   "id": "ae37900b",
   "metadata": {},
   "source": [
    "#### Considerazione sul numero di download:\n",
    "Ha senso, ai fini della nostra analisi, considerare applicazioni con un numero relativamente basso di installazioni?<br>\n",
    "Immaginiamo lo sviluppatore 'indie' che fa scaricare e recensire la sua app appena sviluppata a 5 suoi conoscenti, quando andremo a calcolare il nostro rapporto nr/nd avremo 100%, ma è davvero significativo?<br>\n",
    "Risulta essere un indicatore realmente affidabile su un così basso numero di utenti?<br>\n",
    "Per questo motivo decidiamo di non considerare le applicazioni con meno di 10000 Installs"
   ]
  },
  {
   "cell_type": "code",
   "execution_count": null,
   "id": "4cee8171",
   "metadata": {},
   "outputs": [],
   "source": [
    "# togliamo tutte le applicazioni con meno di 10000 installs:\n",
    "playstore = playstore[playstore['Installs'] >= 10000]"
   ]
  },
  {
   "cell_type": "markdown",
   "id": "c21418c3-e376-4715-9de5-eaf37dcd9022",
   "metadata": {},
   "source": [
    "#### Calcolo del rapporto nr/nd:"
   ]
  },
  {
   "cell_type": "code",
   "execution_count": null,
   "id": "81879e03",
   "metadata": {},
   "outputs": [],
   "source": [
    "# calcoliamo il rapporto tra numero di recensioni e numero di installazioni:\n",
    "playstore['nr/nd'] = playstore['Reviews'] / playstore['Installs'] * 100\n",
    "playstore.describe()\n",
    "# ordiniamo il dataset in base al rapporto tra numero di recensioni e numero di installazioni:\n",
    "playstore = playstore.sort_values(by='nr/nd', ascending=False)\n",
    "playstore.head(20) # diamo una occhiata alle prime 20 righe"
   ]
  },
  {
   "cell_type": "markdown",
   "id": "bb93a038",
   "metadata": {},
   "source": [
    "#### Problema di precisione nei dati\n",
    "Notiamo valori sospetti dopo aver calcolato nr/nd ed aver ordinato le righe del dataframe in base a questa metrica (ad esempio un rapporto del 102% dovuto al fatto che ci fossero 10249 reviews per una applicazione installata 10000 volte) questo ci ha portato a ulteriori controlli sui dati. <br>\n",
    "Siamo ritornati a pulire i dati, in quanto non è possibile che, per una certa applicazione, ci siano più reviews che installazioni.\n",
    "Ma perché accade questo? Con tutta probabilità, ciò è causato dal fatto che il numero di installazioni non è un numero preciso, bensì un range (infatti come abbiamo detto in precedenza, era indicato nella forma del tipo n+), questo significa che, se una applicazione ha \"1+ downloads\" essa ha un numero di downloads maggiore o uguale a 1 e però minore di 5, se una applicazione ha un numero di downloads listato come 1,000+ significa che ha tra le 1,000 e  le 5,000 installazioni, e così via.\n",
    "Mentre, il numero di reviews è un numero preciso.\n",
    "Per cercare di arginare questo problema procediamo eliminando dal dataset le righe in cui il nr/nd è superiore a 100\n"
   ]
  },
  {
   "cell_type": "code",
   "execution_count": null,
   "id": "9caa31fc",
   "metadata": {},
   "outputs": [],
   "source": [
    "# eliminiamo dal dataset le righe in cui nr/nd è maggiore di 100:\n",
    "playstore = playstore[playstore['nr/nd'] <= 100]\n",
    "playstore.describe()"
   ]
  },
  {
   "cell_type": "markdown",
   "id": "59095756",
   "metadata": {},
   "source": [
    "&emsp;&emsp;&emsp;&emsp;&emsp;👆🏼Notiamo anche che considerando solo le app con 10,000 download o più, il rating minimo si è alzato da 1 a 1.6"
   ]
  },
  {
   "cell_type": "markdown",
   "id": "cedac20e-53dd-479b-80b0-641985b00a04",
   "metadata": {
    "tags": []
   },
   "source": [
    "### Distribuzione delle categorie\n",
    "Una volta completata la pulizia, iniziamo a cercare di capire meglio la struttura dei nostri dati; cominciamo visualizzando la distribuzione delle categorie delle app nello store"
   ]
  },
  {
   "cell_type": "code",
   "execution_count": null,
   "id": "f8244e6c",
   "metadata": {
    "tags": []
   },
   "outputs": [],
   "source": [
    "import matplotlib.pyplot as plt\n",
    "\n",
    "# Genera una lista di 33 colori diversi\n",
    "color_palette = ['#1f77b4', '#ff7f0e', '#2ca02c', '#d62728', '#9467bd',\n",
    "                 '#8c564b', '#e377c2', '#7f7f7f', '#bcbd22', '#17becf',\n",
    "                 '#aec7e8', '#ffbb78', '#98df8a', '#ff9896', '#c5b0d5',\n",
    "                 '#c49c94', '#f7b6d2', '#c7c7c7', '#dbdb8d', '#9edae5',\n",
    "                 '#393b79', '#ff6f69', '#5d5d5d', '#ffb347', '#84dcc6',\n",
    "                 '#595959', '#f6b93b', '#bae1ff', '#a05195', '#ff7c43',\n",
    "                 '#00818a', '#e55e5e', '#3caea3']\n",
    "\n",
    "percentages = (playstore['Category'].value_counts() / len(playstore)) * 100\n",
    "labels = [f'{label} - {percentage:.1f}%' for label, percentage in zip(percentages.index, percentages)]\n",
    "\n",
    "# Plot del grafico a torta\n",
    "pie = playstore['Category'].value_counts().plot.pie(fontsize=10, autopct='%1.1f%%', figsize=(10,10), colors=color_palette, labels=None, labeldistance=0.7)\n",
    "plt.ylabel('')\n",
    "plt.title('Distribuzione delle categorie')\n",
    "plt.subplots_adjust(right=1.7)  # spazio a destra per la legenda\n",
    "\n",
    "# Modifica la dimensione del font delle etichette in base alla dimensione delle fette\n",
    "sizePerc=20\n",
    "count=1\n",
    "for text in pie.texts:\n",
    "    text.set_fontsize(sizePerc)\n",
    "    if (count<=33):\n",
    "        print(count)\n",
    "        print(sizePerc)\n",
    "        sizePerc-=0.44\n",
    "    count+=1\n",
    "count=1\n",
    "sizePerc=20\n",
    "plt.legend(labels=labels, loc='upper right', bbox_to_anchor=(1.3, 1))\n",
    "# Mostra il grafico\n",
    "plt.show()\n",
    "\n"
   ]
  },
  {
   "cell_type": "markdown",
   "id": "d8884c7d",
   "metadata": {
    "jp-MarkdownHeadingCollapsed": true,
    "tags": []
   },
   "source": [
    "## Risoluzione obiettivo 1:\n",
    "Cerchiamo di capire quale è la categoria con il rapporto tra numero di recensioni e numero di installazioni più alto"
   ]
  },
  {
   "cell_type": "code",
   "execution_count": null,
   "id": "6167362e",
   "metadata": {},
   "outputs": [],
   "source": [
    "playstore.groupby('Category')['nr/nd'].mean().sort_values(ascending=False).plot.bar(figsize=(10,5)) # ordiniamo le categorie in base al rapporto tra numero di recensioni e numero di installazioni, prendendo ogni categoria e calcolando la media di nr/nd\n",
    "plt.ylabel('nr/nd')\n",
    "plt.title('Rapporto tra numero di recensioni e numero di installazioni per categoria')\n",
    "plt.show()"
   ]
  },
  {
   "cell_type": "markdown",
   "id": "8d8b0236-5e10-4cd9-8b62-4ce85c757b14",
   "metadata": {},
   "source": [
    "Abbiamo quindi scoperto che la categoria di applicazioni con nr/nd più alto è la categoria GAME, differentemente da quanto ci aspettavamo (avendo inizialmente ipotizzato PRODUCTIVITY)"
   ]
  },
  {
   "cell_type": "markdown",
   "id": "768f94cf",
   "metadata": {
    "tags": []
   },
   "source": [
    "## Olap\n",
    "Prepariamo i dati per la rappresentazione multidimensionale e iniziamo a visualizzare"
   ]
  },
  {
   "cell_type": "code",
   "execution_count": null,
   "id": "bb507fb2",
   "metadata": {},
   "outputs": [],
   "source": [
    "# Recuperiamo le diverse categorie per la rappresentazione OLAP\n",
    "quantize_category = np.unique(playstore['Category'])\n",
    "print(\"Numero di categorie: \", len(quantize_category))\n",
    "quantize_rating = ['BAD', 'SUFFICIENT', 'GOOD', 'EXCELLENT']\n",
    "quantize_nr_nd = ['LOW', 'MEDIUM', 'HIGH']\n",
    "\n",
    "\n",
    "playstore.info()\n",
    "\n"
   ]
  },
  {
   "cell_type": "code",
   "execution_count": null,
   "id": "12a41570",
   "metadata": {},
   "outputs": [],
   "source": [
    "playstore.loc[playstore['nr/nd'].between(0, 15), 'nr/nd_quant'] = quantize_nr_nd[0]\n",
    "playstore.loc[playstore['nr/nd'].between(15, 35), 'nr/nd_quant'] = quantize_nr_nd[1]\n",
    "playstore.loc[playstore['nr/nd'].between(35, 100), 'nr/nd_quant'] = quantize_nr_nd[2]\n",
    "\n",
    "playstore.loc[playstore['Rating'] < 2.5, 'Rating_quant'] = quantize_rating[0]\n",
    "playstore.loc[playstore['Rating'].between(2.5, 3.5), 'Rating_quant'] = quantize_rating[1]\n",
    "playstore.loc[playstore['Rating'].between(3.6, 4.5), 'Rating_quant'] = quantize_rating[2]\n",
    "playstore.loc[playstore['Rating'] >4.5, 'Rating_quant'] = quantize_rating[3]\n",
    "\n"
   ]
  },
  {
   "cell_type": "code",
   "execution_count": null,
   "id": "140da209",
   "metadata": {},
   "outputs": [],
   "source": [
    "results = pd.DataFrame(columns=['Category', 'Rating', 'nr/nd', 'Count'])\n",
    "playstore['combined'] = playstore['Category'] + \" / \" + playstore['Rating_quant'] + \" / \" + playstore['nr/nd_quant']\n",
    "playstore.head()\n"
   ]
  },
  {
   "cell_type": "code",
   "execution_count": null,
   "id": "d27dc33f-e972-40d1-8e99-a11e0110603e",
   "metadata": {},
   "outputs": [],
   "source": [
    "counts = playstore['combined'].value_counts()\n",
    "\n",
    "for z in range(0,len(quantize_category)):\n",
    "    for j in range(0,len(quantize_rating)):\n",
    "        for i in range(0,len(quantize_nr_nd)):\n",
    "            key = f\"{quantize_category[z]} / {quantize_rating[j]} / {quantize_nr_nd[i]}\"\n",
    "            #print(\"Key: \", key) # per vedere come si chiama la chiave (debug)\n",
    "            count = counts.get(key, 0)\n",
    "#Aggiungiamo i risultati al dataframe\n",
    "            results.loc[len(results)] = [quantize_category[z], quantize_rating[j], quantize_nr_nd[i], count]\n",
    "results.head(1000)\n"
   ]
  },
  {
   "cell_type": "markdown",
   "id": "ade425d3-fb60-408c-ba35-c2b44cea04fe",
   "metadata": {},
   "source": [
    "Visualizziamo ricordandoci che abbiamo:\n",
    "* 33 possibili valori per Category\n",
    "* 4 possibili valori per Rating\n",
    "* 3 possibili valori per nr/nd"
   ]
  },
  {
   "cell_type": "code",
   "execution_count": null,
   "id": "fff24217",
   "metadata": {},
   "outputs": [],
   "source": [
    "# printiamo il valore massimo di count\n",
    "print(\"Massimo: \", results['Count'].max())\n",
    "# ordiniamo il dataframe results in base alla colonna count\n",
    "results = results.sort_values(by='Count', ascending=False)\n",
    "results.head(10)"
   ]
  },
  {
   "cell_type": "markdown",
   "id": "047ce5ef",
   "metadata": {},
   "source": [
    "### Interpretazione della visualizzazione qua sopra\n",
    "La tabella results di cui abbiamo visualizzato alcune righe ci comunica le seguenti informazioni riguardo al nostro dataset, rispondendo a questa domanda:<br>\n",
    "Quante sono le applicazioni della categoria X che abbiano un rating buono (o cattivo) ed un nr/nd basso (o medio, o alto)? <br>La risposta a questa domanda viene fornita dalla colonna Count, che conta per l'appunto il numero di occorrenze di tali applicazioni.\n",
    "#### *esempio*:\n",
    "ci sono 901 applicazioni della categoria FAMILY che hanno un rating GOOD ed un nr/nd LOW."
   ]
  },
  {
   "cell_type": "markdown",
   "id": "244a83d7",
   "metadata": {
    "tags": []
   },
   "source": [
    "### Prima visualizzazione OLAP proposta\n",
    "Siccome abbiamo notato che la categoria FAMILY è quella che si \"prende la fetta più grande\" tra le categorie di applicazioni dello store, e che GAME è quella mediamente con il rapporto nr/nd più alto, pensiamo sia interessante fare una visualizzazione OLAP per quanto riguarda queste categorie."
   ]
  },
  {
   "cell_type": "markdown",
   "id": "c8df39bb-114c-423c-b904-5481392dc1b2",
   "metadata": {},
   "source": [
    "#### Slicing su app di categoria FAMILY"
   ]
  },
  {
   "cell_type": "code",
   "execution_count": null,
   "id": "76fbfbfe",
   "metadata": {},
   "outputs": [],
   "source": [
    "family_results = results.loc[results['Category'] == 'FAMILY']\n",
    "print(family_results)"
   ]
  },
  {
   "cell_type": "code",
   "execution_count": null,
   "id": "4b38dda0",
   "metadata": {},
   "outputs": [],
   "source": [
    "# Trasformiamo i dati in una matrice utilizzando il metodo pivot\n",
    "matrix = family_results.pivot(index='Rating', columns='nr/nd', values='Count')\n",
    "# Creiamo la heatmap utilizzando imshow\n",
    "plt.imshow(matrix, cmap='YlGnBu', interpolation='nearest', norm=mcolors.LogNorm(vmin=1, vmax=1000))\n",
    "\n",
    "# Aggiungiamo una colorbar per indicare il valore dei colori\n",
    "cbar = plt.colorbar(label='Count')\n",
    "\n",
    "# Impostiamo le etichette degli assi\n",
    "plt.xticks(np.arange(len(matrix.columns)), matrix.columns)\n",
    "plt.yticks(np.arange(len(matrix.index)), matrix.index)\n",
    "\n",
    "plt.title('HeatMap dello slicing su FAMILY')\n",
    "\n",
    "# Modifichiamo le etichette della colorbar, ci sembra più chiaro avere 1, 10, 100, 1000 espressi così, piuttosto che come potenze di 10 (di default)\n",
    "ticks = [1, 10, 100, 1000]\n",
    "cbar.set_ticks(ticks)\n",
    "cbar.set_ticklabels(ticks)\n",
    "# Mostriamo il grafico\n",
    "plt.show()"
   ]
  },
  {
   "cell_type": "markdown",
   "id": "723a7ad2",
   "metadata": {},
   "source": [
    "Con questo slicing notiamo che la maggior parte delle app per famiglie hanno un nr/nd basso e che la maggior parte di esse hanno un rating buono.\n",
    "In particolare, abbiamo visto precedentemente che le app di categoria family sono le più numerose, con una percentuale del 18.7 %. Le app di questa categoria sono 1201 e con questa visualizzazione OLAP vediamo come addirittura circa 900 siano quelle con nr/nd basso e valutazione buona, quindi stiamo parlando del 75% delle applicazioni FAMILY."
   ]
  },
  {
   "cell_type": "markdown",
   "id": "7e86ceb3-63f9-4454-8e66-2dc5c6c109ca",
   "metadata": {},
   "source": [
    "#### Slicing su app di categoria GAME"
   ]
  },
  {
   "cell_type": "code",
   "execution_count": null,
   "id": "480a56a7",
   "metadata": {},
   "outputs": [],
   "source": [
    "game_results = results.loc[results['Category'] == 'GAME']\n",
    "print(game_results)"
   ]
  },
  {
   "cell_type": "code",
   "execution_count": null,
   "id": "9213e06d",
   "metadata": {},
   "outputs": [],
   "source": [
    "# Trasformiamo i dati in una matrice utilizzando il metodo pivot\n",
    "matrix = game_results.pivot(index='Rating', columns='nr/nd', values='Count')\n",
    "# Creiamo la heatmap utilizzando imshow\n",
    "plt.imshow(matrix, cmap='YlGnBu', interpolation='nearest', norm=mcolors.LogNorm(vmin=1, vmax=1200))\n",
    "\n",
    "# Aggiungiamo una colorbar per indicare il valore dei colori\n",
    "cbar = plt.colorbar(label='Count')\n",
    "\n",
    "# Impostiamo le etichette degli assi\n",
    "plt.xticks(np.arange(len(matrix.columns)), matrix.columns)\n",
    "plt.yticks(np.arange(len(matrix.index)), matrix.index)\n",
    "\n",
    "plt.title('HeatMap dello slicing su GAME')\n",
    "\n",
    "\n",
    "# Modifichiamo le etichette della colorbar, ci sembra più chiaro avere 1, 10, 100, 1000 espressi così, piuttosto che come potenze di 10 (di default)\n",
    "ticks = [1, 10, 100, 1000]\n",
    "cbar.set_ticks(ticks)\n",
    "cbar.set_ticklabels(ticks)\n",
    "# Mostriamo il grafico\n",
    "plt.show()"
   ]
  },
  {
   "cell_type": "markdown",
   "id": "5ad6c568",
   "metadata": {},
   "source": [
    "Forse stiamo iniziando a notare un trend? Sia in questo slicing su GAME, che in quello su FAMILY, c'è una totale assenza di occorrenze delle combinazioni:\n",
    "* (nr/nd medio, rating cattivo)\n",
    "* (nr/nd alto, rating cattivo)\n",
    "* (nr/nd alto, rating sufficiente)\n",
    "* (nr/nd medio, rating sufficiente).\n",
    "<br>\n",
    "\n",
    "Con il codice qua sotto ci convinciamo che questo accade **su tutto il dataset** e non solo nelle categorie FAMILY e GAME"
   ]
  },
  {
   "cell_type": "code",
   "execution_count": null,
   "id": "ab305b70-8840-4ea6-abc7-4810d687dc31",
   "metadata": {
    "tags": []
   },
   "outputs": [],
   "source": [
    "# Filtraggio dei dati per le combinazioni specifiche\n",
    "bad_medium = results.loc[(results['Rating'] == 'BAD') & (results['nr/nd'] == 'MEDIUM')]\n",
    "bad_high = results.loc[(results['Rating'] == 'BAD') & (results['nr/nd'] == 'HIGH')]\n",
    "sufficient_high = results.loc[(results['Rating'] == 'SUFFICIENT') & (results['nr/nd'] == 'HIGH')]\n",
    "sufficient_medium= results.loc[(results['Rating'] == 'SUFFICIENT') & (results['nr/nd'] == 'MEDIUM')]\n",
    "# Controllo se tutti i valori nella colonna 'Count' sono zero\n",
    "print(\"Tutti zeri per combinazioni (nr/nd medio, rating cattivo) di qualsiasi categoria:\", bad_medium['Count'].all() == 0)\n",
    "print(\"Tutti zeri per combinazioni (nr/nd alto, rating cattivo) di qualsiasi categoria:\", bad_high['Count'].all() == 0)\n",
    "print(\"Tutti zeri per combinazioni (nr/nd alto, rating sufficiente) di qualsiasi categoria:\", sufficient_high['Count'].all() == 0)\n",
    "print(\"Tutti zeri per combinazioni (nr/nd medio, rating sufficiente) di qualsiasi categoria:\", sufficient_medium['Count'].all() == 0)\n"
   ]
  },
  {
   "cell_type": "markdown",
   "id": "5ff51343-2023-4f13-9e5b-b25500ad0512",
   "metadata": {},
   "source": [
    "#### Dicing\n",
    "A questo punto effetuiamo un dicing, visualizzando le app che hanno un Rating \"SUFFICIENT\" ed un nr/nd \"LOW\", in quanto è la combinazione che sembra differire in maniera più significativa guardando le due matrici di FAMILY e GAME"
   ]
  },
  {
   "cell_type": "code",
   "execution_count": null,
   "id": "026a1662-3865-4552-b4ac-862a3f156b22",
   "metadata": {
    "tags": []
   },
   "outputs": [],
   "source": [
    "suff_low_apps = results.loc[(results['Rating'] == 'SUFFICIENT') & (results['nr/nd'] == 'LOW')]\n",
    "print(suff_low_apps)\n"
   ]
  },
  {
   "cell_type": "code",
   "execution_count": null,
   "id": "e6136c46-9a66-47f3-853f-5ac2f9c5cad0",
   "metadata": {
    "tags": []
   },
   "outputs": [],
   "source": [
    "#rimuoviamo tutte quelle con count = 0\n",
    "suff_low_apps_filtered = suff_low_apps.loc[suff_low_apps['Count']>0]\n",
    "print(suff_low_apps_filtered)"
   ]
  },
  {
   "cell_type": "code",
   "execution_count": null,
   "id": "c06533b6-ae5e-4390-80f8-e0d11e83a46a",
   "metadata": {
    "tags": []
   },
   "outputs": [],
   "source": [
    "# Creiamo un bar plot con larghezza delle barre regolata\n",
    "plt.figure(figsize=(28,12))  ## width, height\n",
    "plt.bar(suff_low_apps_filtered['Category'], suff_low_apps_filtered['Count'], color=['blue', 'orange', 'red', 'yellow', 'green', 'violet', 'black', 'pink'], width=0.8)\n",
    "\n",
    "\n",
    "# Impostiamo le etichette degli assi\n",
    "plt.xlabel('Category', fontsize=20)\n",
    "plt.ylabel('Count', fontsize=20)\n",
    "\n",
    "# Impostiamo il titolo del grafico\n",
    "plt.title('Numero delle app con un rating SUFFICIENT ed un nr/nd LOW per categoria', fontsize=16)\n",
    "\n",
    "# Impostiamo la dimensione del font per le etichette sull'asse x\n",
    "plt.xticks(fontsize=10, rotation=58)\n",
    "\n",
    "# Mostriamo il grafico\n",
    "plt.show()\n"
   ]
  },
  {
   "cell_type": "markdown",
   "id": "bc0c677d",
   "metadata": {},
   "source": [
    "Facciamo la stessa cosa, visualizzando adesso le app che hanno un Rating \"GOOD\" ed un nr/nd \"MEDIUM\""
   ]
  },
  {
   "cell_type": "code",
   "execution_count": null,
   "id": "3fdb446a",
   "metadata": {},
   "outputs": [],
   "source": [
    "good_medium_apps = results.loc[(results['Rating'] == 'GOOD') & (results['nr/nd'] == 'MEDIUM')]\n",
    "#rimuoviamo tutte quelle con count = 0\n",
    "good_medium_apps_filtered = good_medium_apps.loc[good_medium_apps['Count']>0]\n",
    "print(good_medium_apps_filtered)"
   ]
  },
  {
   "cell_type": "code",
   "execution_count": null,
   "id": "95d78df4",
   "metadata": {},
   "outputs": [],
   "source": [
    "# Creiamo un bar plot con larghezza delle barre regolata\n",
    "plt.figure(figsize=(18,12))  ## width, height\n",
    "plt.bar(good_medium_apps_filtered['Category'], good_medium_apps_filtered['Count'], color=['blue', 'orange', 'red', 'yellow', 'green', 'violet', 'black', 'pink'], width=0.8)\n",
    "\n",
    "\n",
    "# Impostiamo le etichette degli assi\n",
    "plt.xlabel('Category', fontsize=20)\n",
    "plt.ylabel('Count', fontsize=20)\n",
    "\n",
    "# Impostiamo il titolo del grafico\n",
    "plt.title('Numero delle app con un rating GOOD ed un nr/nd MEDIUM per categoria', fontsize=16)\n",
    "\n",
    "# Impostiamo la dimensione del font per le etichette sull'asse x\n",
    "plt.xticks(fontsize=10, rotation=45)\n",
    "\n",
    "# Mostriamo il grafico\n",
    "plt.show()"
   ]
  },
  {
   "cell_type": "markdown",
   "id": "828fd9cd-c60c-4d18-9392-297b21cfb5d5",
   "metadata": {
    "tags": []
   },
   "source": [
    "### Seconda visualizzazione OLAP proposta\n",
    "Vogliamo cambiare il punto di vista dell'OLAP e concentrarci sulle differenze tra app free e paid"
   ]
  },
  {
   "cell_type": "code",
   "execution_count": null,
   "id": "7b58e025-29c2-44dc-8cdb-9ade6c9965cf",
   "metadata": {
    "tags": []
   },
   "outputs": [],
   "source": [
    "quantize_type = np.unique(playstore['Type'])\n",
    "quantize_rating = ['BAD', 'SUFFICIENT', 'GOOD', 'EXCELLENT']\n",
    "quantize_nr_nd = ['LOW', 'MEDIUM', 'HIGH']\n",
    "\n",
    "playstore.loc[playstore['nr/nd'].between(0, 15), 'nr/nd_quant'] = quantize_nr_nd[0]\n",
    "playstore.loc[playstore['nr/nd'].between(15, 35), 'nr/nd_quant'] = quantize_nr_nd[1]\n",
    "playstore.loc[playstore['nr/nd'].between(35, 100), 'nr/nd_quant'] = quantize_nr_nd[2]\n",
    "\n",
    "playstore.loc[playstore['Rating'] < 2.5, 'Rating_quant'] = quantize_rating[0]\n",
    "playstore.loc[playstore['Rating'].between(2.5, 3.5), 'Rating_quant'] = quantize_rating[1]\n",
    "playstore.loc[playstore['Rating'].between(3.6, 4.5), 'Rating_quant'] = quantize_rating[2]\n",
    "playstore.loc[playstore['Rating'] >4.5, 'Rating_quant'] = quantize_rating[3]\n",
    "\n",
    "results = pd.DataFrame(columns=['Type', 'Rating', 'nr/nd', 'Count'])\n",
    "playstore['combined'] = playstore['Type'] + \" / \" + playstore['Rating_quant'] + \" / \" + playstore['nr/nd_quant']\n",
    "\n",
    "counts = playstore['combined'].value_counts()\n",
    "\n",
    "for z in range(0,len(quantize_type)):\n",
    "    for j in range(0,len(quantize_rating)):\n",
    "        for i in range(0,len(quantize_nr_nd)):\n",
    "            key = f\"{quantize_type[z]} / {quantize_rating[j]} / {quantize_nr_nd[i]}\"\n",
    "            #print(\"Key: \", key) # per vedere come si chiama la chiave (debug)\n",
    "            count = counts.get(key, 0)\n",
    "#Aggiungiamo i risultati al dataframe\n",
    "            results.loc[len(results)] = [quantize_type[z], quantize_rating[j], quantize_nr_nd[i], count]\n",
    "# printiamo il valore massimo di count\n",
    "print(\"Massimo: \", results['Count'].max())\n",
    "# ordiniamo il dataframe results in base alla colonna count\n",
    "results = results.sort_values(by='Count', ascending=False)\n",
    "results.head(24) # tutte le possibili combinazioni sono 24"
   ]
  },
  {
   "cell_type": "markdown",
   "id": "dd898183-4549-4a5d-ada4-e4b5a41963e6",
   "metadata": {},
   "source": [
    "Da questa visualizzazione possiamo notare che\n",
    "* lo store è dominato da applicazioni che hanno un nr/nd basso\n",
    "* il numero di app a pagamento è molto più piccolo rispetto al numero di app free\n",
    "* generalmente le recensioni positive sono più comuni di quelle negative"
   ]
  },
  {
   "cell_type": "markdown",
   "id": "1144af8a",
   "metadata": {},
   "source": [
    "Proviamo a visualizzare queste informazioni con qualche grafico:"
   ]
  },
  {
   "cell_type": "code",
   "execution_count": null,
   "id": "b43e6949-8429-46fa-b161-20212e77c9e7",
   "metadata": {
    "tags": []
   },
   "outputs": [],
   "source": [
    "# grafico a torta per vedere la distribuzione delle app free/paid:\n",
    "playstore['Type'].value_counts().plot.pie(autopct='%1.1f%%', figsize=(6,6), labels=None)\n",
    "plt.ylabel('')\n",
    "plt.title('Distribuzione delle app a pagamento e gratis')\n",
    "plt.legend(labels=playstore['Type'].value_counts().index, loc='upper right', bbox_to_anchor=(1.3, 1))\n",
    "plt.show()\n"
   ]
  },
  {
   "cell_type": "code",
   "execution_count": null,
   "id": "b642cff6-7525-4c01-b706-91668483b450",
   "metadata": {
    "tags": []
   },
   "outputs": [],
   "source": [
    "percentages = (playstore['nr/nd_quant'].value_counts() / len(playstore)) * 100\n",
    "labels = [f'{label} - {percentage:.1f}%' for label, percentage in zip(percentages.index, percentages)]\n",
    "\n",
    "# Plot del grafico a torta\n",
    "playstore['nr/nd_quant'].value_counts().plot.pie(autopct='', figsize=(6,6), labels=None)\n",
    "plt.ylabel('')\n",
    "plt.title('Distribuzione delle app in base a nr/nd')\n",
    "plt.legend(labels=labels, loc='upper right', bbox_to_anchor=(1.3, 1))\n",
    "# Mostra il grafico\n",
    "plt.show()"
   ]
  },
  {
   "cell_type": "code",
   "execution_count": null,
   "id": "ae965579-774f-4407-a30a-4d31aeacbb61",
   "metadata": {},
   "outputs": [],
   "source": [
    "low_results = results.loc[results['nr/nd'] == 'LOW']\n",
    "medium_results = results.loc[results['nr/nd'] == 'MEDIUM']\n",
    "high_results = results.loc[results['nr/nd'] == 'HIGH']"
   ]
  },
  {
   "cell_type": "code",
   "execution_count": null,
   "id": "52718a17-f89a-4412-bd54-335aecc1a033",
   "metadata": {
    "tags": []
   },
   "outputs": [],
   "source": [
    "custom_rating_order = ['BAD', 'SUFFICIENT', 'GOOD', 'EXCELLENT']\n",
    "\n",
    "# Crea una copia esplicita del DataFrame per evitare il SettingWithCopyWarning\n",
    "low_results_copy = low_results.copy()\n",
    "medium_results_copy = medium_results.copy()\n",
    "high_results_copy = high_results.copy()\n",
    "\n",
    "# Modifica il Rating nel DataFrame copiato\n",
    "low_results_copy['Rating'] = pd.Categorical(low_results_copy['Rating'], categories=custom_rating_order, ordered=True)\n",
    "low_results_copy = low_results_copy.sort_values('Rating')\n",
    "low_results=low_results_copy\n",
    "\n",
    "\n",
    "medium_results_copy['Rating'] = pd.Categorical(medium_results_copy['Rating'], categories=custom_rating_order, ordered=True)\n",
    "medium_results_copy = medium_results_copy.sort_values('Rating')\n",
    "medium_results=medium_results_copy\n",
    "\n",
    "high_results_copy['Rating'] = pd.Categorical(high_results_copy['Rating'], categories=custom_rating_order, ordered=True)\n",
    "high_results_copy = high_results_copy.sort_values('Rating')\n",
    "high_results=high_results_copy"
   ]
  },
  {
   "cell_type": "code",
   "execution_count": null,
   "id": "ef5e1bb8-6b9f-408d-8acd-f9860b89bd19",
   "metadata": {
    "tags": []
   },
   "outputs": [],
   "source": [
    "import matplotlib.pyplot as plt\n",
    "# Crea una nuova figura\n",
    "plt.figure(figsize=(10, 16))\n",
    "\n",
    "# Plot per LOW\n",
    "plt.subplot(3, 1, 1)  # 3 righe, 1 colonna, subplot 1\n",
    "for type in low_results['Type'].unique():\n",
    "    subset = low_results[low_results['Type'] == type]\n",
    "    plt.plot(subset['Rating'], subset['Count'], marker='o', label=type)\n",
    "plt.title('Count vs Rating su app con nr/nd LOW')\n",
    "plt.xlabel('Rating')\n",
    "plt.ylabel('Count')\n",
    "plt.legend()\n",
    "\n",
    "# Plot per MEDIUM\n",
    "plt.subplot(3, 1, 2)  # 3 righe, 1 colonna, subplot 2\n",
    "for type in medium_results['Type'].unique():\n",
    "    subset = medium_results[medium_results['Type'] == type]\n",
    "    plt.plot(subset['Rating'], subset['Count'], marker='o', label=type)\n",
    "plt.title('Count vs Rating su app con nr/nd MEDIUM')\n",
    "plt.xlabel('Rating')\n",
    "plt.ylabel('Count')\n",
    "plt.legend()\n",
    "\n",
    "# Plot per HIGH\n",
    "plt.subplot(3, 1, 3)  # 3 righe, 1 colonna, subplot 3\n",
    "for type in high_results['Type'].unique():\n",
    "    subset = high_results[high_results['Type'] == type]\n",
    "    plt.plot(subset['Rating'], subset['Count'], marker='o', label=type)\n",
    "plt.title('Count vs Rating su app con nr/nd HIGH')\n",
    "plt.xlabel('Rating')\n",
    "plt.ylabel('Count')\n",
    "plt.legend()\n",
    "\n",
    "# Imposta lo spazio tra i grafici\n",
    "plt.tight_layout()\n",
    "\n",
    "# Mostra il grafico\n",
    "plt.show()\n"
   ]
  },
  {
   "cell_type": "markdown",
   "id": "cbc81b50",
   "metadata": {},
   "source": [
    "Da questi ultimi grafici notiamo che, per quanto riguarda le app con nr/nd basso e medio la valutazione è sempre per lo più buona, mentre, se esaminiamo quelle con nr/nd alto, la valutazione maggioritaria è eccellente, sia per le app free che quelle a pagamento.\n",
    "<br>\n",
    "Un'altra cosa importante da notare è che la spezzata delle app free sta sempre sopra o al limite coincide con quella delle app a pagamento per quanto riguarda lo slicing su LOW e HIGH, mentre nel caso delle app con nr/nd MEDIUM questa tendenza si inverte sulle app valutate GOOD, ciò significa che in questo caso, ci sono più app considerate buone a pagamento che gratis (mentre però, come osserviamo, ci sono più app eccellenti gratis che a pagamento) "
   ]
  },
  {
   "cell_type": "markdown",
   "id": "a7415047",
   "metadata": {},
   "source": [
    "## Test Statistico\n",
    "Dopo aver condotto l'analisi, abbiamo identificato la categoria \"game\" come quella con il valore più elevato di nr/nd.\n",
    "Presumiamo che, in questa categoria, saranno le applicazioni a pagamento ad avere l'nr-nd più alto. Questa supposizione si basa sul ragionamento che gli utenti che pagano per un'applicazione sono probabilmente più inclini a lasciare recensioni e quindi dare una valutazione, positiva o negativa che sia, all'applicazione. Questo perché l'atto di acquisto potrebbe indicare un maggiore coinvolgimento o aspettative più elevate da parte dell'utente rispetto alle app gratuite."
   ]
  },
  {
   "cell_type": "code",
   "execution_count": null,
   "id": "ef2e77de",
   "metadata": {
    "tags": []
   },
   "outputs": [],
   "source": [
    "#Creiamo un dataframe per la categoria game:\n",
    "game = playstore[playstore['Category'] == 'GAME']\n",
    "#Contiamo quante app sono a pagamento e quante sono gratuite:\n",
    "game['Type'].value_counts()\n"
   ]
  },
  {
   "cell_type": "markdown",
   "id": "d9534262",
   "metadata": {},
   "source": [
    "Scegliamo un livello di significatività di 0.05 e consideriamo le seguenti ipotesi:\n",
    "* ipotesi nulla H0 = le medie di nr/nd delle app free e di quelle paid **non** sono statisticamente diverse\n",
    "* ipotesti alternativa HA = le medie sono diverse"
   ]
  },
  {
   "cell_type": "code",
   "execution_count": null,
   "id": "99f0ca5f",
   "metadata": {},
   "outputs": [],
   "source": [
    "#Testiamo se le due distribuzioni sono significativamente diverse:\n",
    "t_stat, p_value=stats.ttest_ind(game[game['Type'] == 'Free']['nr/nd'], game[game['Type'] == 'Paid']['nr/nd'])\n",
    "print(\"p value\",p_value)\n"
   ]
  },
  {
   "cell_type": "markdown",
   "id": "c9c772ce",
   "metadata": {},
   "source": [
    "Il p-value è molto basso, e, siccome p-value << livello di significatività, possiamo concludere che le due distribuzioni sono significativamente diverse (rigettando l'ipotesi nulla in favore di quella alternativa)."
   ]
  },
  {
   "cell_type": "code",
   "execution_count": null,
   "id": "3f88e0b1",
   "metadata": {},
   "outputs": [],
   "source": [
    "#Infine, visualizziamo un boxplot per confrontare le due distribuzioni:\n",
    "game.boxplot(column='nr/nd', by='Type', figsize=(10,10))\n",
    "plt.ylabel('nr/nd')\n",
    "plt.title('')\n",
    "plt.suptitle('')\n",
    "plt.show()"
   ]
  },
  {
   "cell_type": "code",
   "execution_count": null,
   "id": "a1b468ba",
   "metadata": {},
   "outputs": [],
   "source": [
    "#Ora vediamo tra quelle gratis e a pagamento chi ha la media nr/nd più alta:\n",
    "print(game.groupby('Type')['nr/nd'].mean())\n"
   ]
  },
  {
   "cell_type": "markdown",
   "id": "707e286b",
   "metadata": {},
   "source": [
    "### Testiamo adesso la differenza tra reviews delle app free e di quelle paid"
   ]
  },
  {
   "cell_type": "markdown",
   "id": "5b7c7b51",
   "metadata": {},
   "source": [
    "Scegliamo un livello di significatività di 0.05 e consideriamo le seguenti ipotesi:\n",
    "* ipotesi nulla H0 = le medie di reviews delle app free e di quelle paid **non** sono statisticamente diverse\n",
    "* ipotesti alternativa HA = le medie sono diverse"
   ]
  },
  {
   "cell_type": "code",
   "execution_count": null,
   "id": "2f85703b",
   "metadata": {},
   "outputs": [],
   "source": [
    "free_reviews = game[game['Type'] == 'Free']['Reviews']\n",
    "paid_reviews = game[game['Type'] == 'Paid']['Reviews']\n",
    "\n",
    "# Testiamo se le due distribuzioni delle recensioni sono significativamente diverse\n",
    "t_stat_reviews, p_value_reviews = stats.ttest_ind(free_reviews, paid_reviews)\n",
    "print(\"T-Statistic (Reviews):\", t_stat_reviews)\n",
    "print(\"P-Value (Reviews):\", p_value_reviews)\n",
    "\n",
    "# Verifichiamo se esiste una differenza significativa nel numero di recensioni tra applicazioni gratuite e a pagamento\n",
    "if p_value_reviews < 0.05:\n",
    "    print(\"La differenza nel numero di recensioni tra applicazioni gratuite e a pagamento è statisticamente significativa.\")\n",
    "else:\n",
    "    print(\"Non ci sono evidenze sufficienti per affermare che la differenza nel numero di recensioni tra applicazioni gratuite e a pagamento sia statisticamente significativa.\")"
   ]
  },
  {
   "cell_type": "markdown",
   "id": "1f862a26",
   "metadata": {},
   "source": [
    "Attraverso questi due test statistici abbiamo dunque scoperto che, per quanto riguarda la categoria GAME, c'è una differenza statisticamente significativa in termini di numero di recensioni/numero di installazioni tra app a pagamento e app gratuite, ma non c'è una differenza significativa in termini solo di recensioni.\n",
    "Questo potrebbe indicare che le persone che pagano per un'applicazione sono più propense a dare recensioni rispetto a coloro che scaricano app gratuite, ma il numero totale di download delle app a pagamento è inferiore rispetto alle app gratuite"
   ]
  },
  {
   "cell_type": "code",
   "execution_count": null,
   "id": "e4e174a4",
   "metadata": {},
   "outputs": [],
   "source": [
    "filtered_apps = playstore[(playstore['Category'] == 'GAME') & (playstore['Type'] == 'Free')]\n",
    "average_reviews = filtered_apps['Reviews'].mean()\n",
    "print(\"Media delle recensioni per le applicazioni di gioco gratuite:\", average_reviews)\n",
    "\n",
    "filtered_apps = playstore[(playstore['Category'] == 'GAME') & (playstore['Type'] == 'Paid')]\n",
    "average_reviews = filtered_apps['Reviews'].mean()\n",
    "print(\"Media delle recensioni per le applicazioni di gioco a pagamento:\", average_reviews)\n"
   ]
  },
  {
   "cell_type": "markdown",
   "id": "591c70f4",
   "metadata": {},
   "source": [
    "## Metodo predittivo\n",
    "Utilizziamo una rappresentazione grafica per verificare se le due features (nr/nd e rating) siano correlate, e se sia quindi possibile utilizzare una di queste features per predire l'altra."
   ]
  },
  {
   "cell_type": "code",
   "execution_count": null,
   "id": "fb69553e",
   "metadata": {},
   "outputs": [],
   "source": [
    "plt.scatter(playstore['nr/nd'], playstore['Rating'])\n",
    "plt.title('scores')\n",
    "plt.xlabel('nr/nd')\n",
    "plt.ylabel('Rating')"
   ]
  },
  {
   "cell_type": "markdown",
   "id": "d7d22f77",
   "metadata": {},
   "source": [
    "Verifichiamo la correlazione attraverso il coefficiente di correlazione di Pearson (r)."
   ]
  },
  {
   "cell_type": "code",
   "execution_count": null,
   "id": "419801c2",
   "metadata": {},
   "outputs": [],
   "source": [
    "correlation, p_value = stats.pearsonr(playstore['nr/nd'],playstore['Rating'])\n",
    "print(\"Coefficiente di Pearson: \", correlation)\n"
   ]
  },
  {
   "cell_type": "markdown",
   "id": "d869f1a4-f215-438a-b253-a63eea0520d8",
   "metadata": {},
   "source": [
    "### Terza ipotesi smentita\n",
    "In fase preliminare avevamo pensato che, al crescere di una metrica, sarebbe diminuita l'altra, mentre, da quanto si evince dal calcolo del coefficiente di Pearson, c'è una correlazione positiva (anche se non particolarmente significativa) e non negativa tra le due variabili."
   ]
  },
  {
   "cell_type": "code",
   "execution_count": null,
   "id": "ef38deba",
   "metadata": {},
   "outputs": [],
   "source": [
    "# Calcoliamo una rappresentazione a griglia della densità dei punti\n",
    "x = playstore['nr/nd']\n",
    "y = playstore['Rating']\n",
    "heatmap, xedges, yedges = np.histogram2d(x, y, bins=50)\n",
    "extent = [xedges[0], xedges[-1], yedges[0], yedges[-1]]\n",
    "\n",
    "# Plottiamo il grafico a dispersione in falsi colori\n",
    "plt.imshow(heatmap.T, extent=extent, origin='lower', cmap='viridis')\n",
    "plt.colorbar(label='Density')\n",
    "plt.title('Density Plot of Ratings')\n",
    "plt.xlabel('nr/nd')\n",
    "plt.ylabel('Rating')\n",
    "plt.show()"
   ]
  },
  {
   "cell_type": "markdown",
   "id": "75e987b8",
   "metadata": {},
   "source": [
    "Notiamo anche in questo grafico una predominanza di rating alti"
   ]
  },
  {
   "cell_type": "code",
   "execution_count": null,
   "id": "53575220-42fb-46b8-a48d-7fa50dbf0cbd",
   "metadata": {
    "tags": []
   },
   "outputs": [],
   "source": [
    "#diamo un'occhiata alla distribuzione della colonna rating\n",
    "playstore['Rating'].describe()"
   ]
  },
  {
   "cell_type": "code",
   "execution_count": null,
   "id": "64191388-4d1a-4c6a-a7b1-b4d0a680b4d5",
   "metadata": {
    "tags": []
   },
   "outputs": [],
   "source": [
    "moda = playstore['Rating'].mode()\n",
    "\n",
    "moda_valore = moda[0] if not moda.empty else None\n",
    "\n",
    "print(\"La moda è:\", moda_valore)\n"
   ]
  },
  {
   "cell_type": "markdown",
   "id": "b54781ad-d8a0-44df-aa5c-406e2f837dba",
   "metadata": {},
   "source": [
    "### Distribuzione del Rating\n",
    "Effettivamente vediamo che la media è 4.17 e che c'è una deviazione standard di 0.4, quindi intuiamo che la grande maggioranza delle app che stiamo analizzando hanno un rating che sta sulla fascia del 4/4.5. Calcolando la moda vediamo inoltre che il valore più frequente per il rating è 4.3.<br>\n",
    "Tutte queste informazioni potrebbero suggerire che, se qualcuno lascia una recensione, in generale è per esprimere una opinione positiva (come vediamo, la distribuzione dei rating è sbilanciata sulla fascia medio-alta)"
   ]
  },
  {
   "cell_type": "code",
   "execution_count": null,
   "id": "718e60b3-00a1-4595-a582-3795b4dea6b4",
   "metadata": {
    "tags": []
   },
   "outputs": [],
   "source": [
    "plt.hist(playstore['Rating'], bins=20)\n",
    "plt.xlabel('Rating')\n",
    "plt.ylabel('Frequenza')\n",
    "plt.title('Distribuzione di Rating' )\n",
    "plt.show()"
   ]
  },
  {
   "cell_type": "code",
   "execution_count": null,
   "id": "c1a6ef02",
   "metadata": {},
   "outputs": [],
   "source": [
    "#Plottiamo in falsi color con un hexbin plot:\n",
    "plt.hexbin(playstore['nr/nd'], playstore['Rating'], gridsize=50, cmap='YlGnBu')\n",
    "plt.xlabel('nr/nd')\n",
    "plt.ylabel('Rating')\n",
    "plt.title('Rating vs nr/nd')\n",
    "plt.colorbar(label='count')\n",
    "plt.show()"
   ]
  },
  {
   "cell_type": "code",
   "execution_count": null,
   "id": "61b24be1",
   "metadata": {},
   "outputs": [],
   "source": [
    "from sklearn.model_selection import train_test_split\n",
    "#codice qui \n",
    "# Definiamo le caratteristiche da usare\n",
    "X = playstore[['nr/nd']] #nr/nd sarà il nostro predittore\n",
    "y = playstore['Rating'] #Rating sarà la variabile da predire (target)\n",
    "\n",
    "# Dividiamo il dataset in training set e validation set usando la proporzione 70/30\n",
    "X_train, X_valid, y_train, y_valid = train_test_split(X, y, test_size=0.3, random_state=42)"
   ]
  },
  {
   "cell_type": "code",
   "execution_count": null,
   "id": "64ec877d",
   "metadata": {},
   "outputs": [],
   "source": [
    "from sklearn.linear_model import LinearRegression\n",
    "# Istanziamo l'oggetto della classe LinearRegression\n",
    "regressor = LinearRegression()\n",
    "\n",
    "# Alleniamo il modello passando il training set\n",
    "regressor.fit(X_train, y_train)\n",
    "\n",
    "# Visualizziamo i coefficienti imparati\n",
    "print(\"Intercept:\", regressor.intercept_)\n",
    "print(\"Coefficiente nr/nd\", regressor.coef_[0]) \n"
   ]
  },
  {
   "cell_type": "code",
   "execution_count": null,
   "id": "7b1d776a",
   "metadata": {},
   "outputs": [],
   "source": [
    "y_hat =regressor.predict(X_valid)\n",
    "\n",
    "plt.scatter(X_valid,y_hat)\n",
    "plt.scatter(X_valid,y_valid,c='r',alpha=0.2)"
   ]
  },
  {
   "cell_type": "markdown",
   "id": "71e2d07b",
   "metadata": {},
   "source": [
    "### Usiamo le tre stime per capire quanto precisa è la funzione imparata\n"
   ]
  },
  {
   "cell_type": "code",
   "execution_count": null,
   "id": "88c35222",
   "metadata": {},
   "outputs": [],
   "source": [
    "import sklearn.metrics as metrics \n",
    "y_pred = regressor.predict(X_valid)\n",
    "print ('MAE:', metrics.mean_absolute_error(y_valid, y_pred))\n",
    "print ('MSE:', metrics.mean_squared_error(y_valid, y_pred))\n",
    "print ('RMSE:', np.sqrt(metrics.mean_squared_error(y_valid, y_pred)))"
   ]
  },
  {
   "cell_type": "markdown",
   "id": "7e068076",
   "metadata": {},
   "source": [
    "### Determiniamo il modello nullo e confrontiamo le metriche appena ottenute"
   ]
  },
  {
   "cell_type": "code",
   "execution_count": null,
   "id": "99086b94",
   "metadata": {},
   "outputs": [],
   "source": [
    "def MSE (y_pred,y_true):\n",
    "    #errore quadratico medio\n",
    "    mse = np.mean((y_pred - y_true) ** 2)\n",
    "    return mse \n",
    "\n",
    "def MAE (y_pred,y_true):\n",
    "    #scarto medio assoluto\n",
    "    mae = np.mean(np.abs(y_pred - y_true))\n",
    "    return mae\n",
    "\n",
    "\n",
    "def RMSE (y_pred,y_true):\n",
    "    #radice quadrata dell'errore quadratico medio\n",
    "    rmse = np.sqrt(np.mean((y_pred - y_true) ** 2))\n",
    "    return rmse\n",
    "\n",
    "\n",
    "# calcoliamo il nr/nd medio\n",
    "mean_nr_nd = playstore['nr/nd'].mean()\n",
    "# creiamo la nuova x con lo stesso numero di campioni del validation set originale, e con tutti i valori uguali a mean_nr_nd appena calcolato\n",
    "null_model = [mean_nr_nd] * y_valid.shape[0]\n",
    "\n",
    "null_mae = MAE(null_model, y_valid)\n",
    "null_mse = MSE(null_model, y_valid)\n",
    "null_rmse = RMSE(null_model, y_valid)\n",
    "\n",
    "#stampate gli errori\n",
    "print(\"Scarto medio assoluto (MAE):\", null_mae)\n",
    "print(\"Errore quadratico medio (MSE):\", null_mse)\n",
    "print(\"Radice dell'errore quadratico medio (RMSE):\", null_rmse)"
   ]
  },
  {
   "cell_type": "markdown",
   "id": "5b6fbc3e-f1f6-423a-87a5-e2eecbe9fb8e",
   "metadata": {},
   "source": [
    "### Considerazioni\n",
    "Possiamo dire quindi che il modello sta imparando, ma non riporta risultati troppo sorprendenti, è sicuramente però migliore del modello nullo, in quanto, sia lo scarto medio assoluto che l'errore quadratico medio che la radice dell'errore quadratico medio sono minori rispetto a quelli ottenuti con il modello nullo."
   ]
  },
  {
   "cell_type": "code",
   "execution_count": null,
   "id": "dc617972-700e-4a09-a8e8-1c1e1408fafe",
   "metadata": {},
   "outputs": [],
   "source": [
    "playstore.info() #visualizziamo la struttura del dataset prima di effettuare clustering"
   ]
  },
  {
   "cell_type": "markdown",
   "id": "a82f3ca4",
   "metadata": {},
   "source": [
    "## Clustering\n",
    "Innanzitutto calcoliamo e plottiamo il coefficiente di silhouette per ogni k da 2 a 10"
   ]
  },
  {
   "cell_type": "code",
   "execution_count": null,
   "id": "0be22130-e6c1-4eb8-9c1a-75d1904bd21f",
   "metadata": {
    "tags": []
   },
   "outputs": [],
   "source": [
    "import matplotlib.pyplot as plt\n",
    "from sklearn.cluster import KMeans\n",
    "from sklearn.preprocessing import MinMaxScaler\n",
    "from sklearn.metrics import silhouette_score\n",
    "X = playstore[['Rating', 'nr/nd', 'Installs', 'Reviews']]\n",
    "scaler = MinMaxScaler()\n",
    "X_scaled = scaler.fit_transform(X)\n",
    "\n",
    "# Lista dei numeri di cluster da testare\n",
    "num_clusters = range(2, 11)  # Possiamo testare da 2 a 10 cluster\n",
    "\n",
    "# Lista per memorizzare i coefficienti di silhouette corrispondenti a ciascun numero di cluster\n",
    "silhouette_scores = []\n",
    "\n",
    "# Calcola il coefficiente di silhouette per ciascun numero di cluster\n",
    "for n_clusters in num_clusters:\n",
    "    model = KMeans(n_clusters=n_clusters, random_state=42)\n",
    "    model.fit(X_scaled)\n",
    "    silhouette_avg = silhouette_score(X_scaled, model.labels_)\n",
    "    silhouette_scores.append(silhouette_avg)\n",
    "\n",
    "# Traccia il grafico\n",
    "plt.plot(num_clusters, silhouette_scores, marker='o')\n",
    "plt.xlabel('Numero di Cluster')\n",
    "plt.ylabel('Silhouette Score')\n",
    "plt.title('Silhouette Score vs Numero di Cluster')\n",
    "plt.xticks(num_clusters)\n",
    "plt.grid(True)\n",
    "plt.show()\n"
   ]
  },
  {
   "cell_type": "markdown",
   "id": "ec3d7eb7",
   "metadata": {},
   "source": [
    "Scegliamo k=5 perché sembra essere quello con silhouette migliore (oltre al 2 che è abbastanza scontato)"
   ]
  },
  {
   "cell_type": "code",
   "execution_count": null,
   "id": "0b2c7857",
   "metadata": {
    "tags": []
   },
   "outputs": [],
   "source": [
    "#Facciamo un esempio di clustering con i dati a disposizione:\n",
    "\n",
    "#Addestriamo il modello di clustering:\n",
    "model = KMeans(n_clusters=5, random_state=42)\n",
    "model.fit(X_scaled)\n",
    "\n",
    "#Aggiungiamo le predizioni al dataset:\n",
    "playstore['Cluster'] = model.predict(X_scaled)\n",
    "\n",
    "# Visualizziamo il numero di app per cluster\n",
    "playstore['Cluster'].value_counts()\n",
    "\n",
    "# Visualizziamo le statistiche per ogni cluster\n",
    "playstore.groupby('Cluster').describe()"
   ]
  },
  {
   "cell_type": "code",
   "execution_count": null,
   "id": "3e1aa057-0a5c-482e-919c-c0f1444d9d16",
   "metadata": {},
   "outputs": [],
   "source": [
    "# Visualizziamo le app di ogni cluster\n",
    "for cluster_num in range(model.n_clusters):\n",
    "    print(f\"Cluster {cluster_num}:\\n\")\n",
    "    print(playstore[playstore['Cluster'] == cluster_num].head())\n",
    "    print(\"\\n\")"
   ]
  },
  {
   "cell_type": "code",
   "execution_count": null,
   "id": "535a4f8f-d285-47d7-bb67-58907bac801b",
   "metadata": {
    "tags": []
   },
   "outputs": [],
   "source": [
    "playstore['Cluster']"
   ]
  },
  {
   "cell_type": "code",
   "execution_count": null,
   "id": "13652885-ddec-4949-b83b-262549bb0568",
   "metadata": {
    "tags": []
   },
   "outputs": [],
   "source": [
    "playstore[(playstore['Cluster'] == 3) & (playstore['Rating_quant'] == 'BAD')]"
   ]
  },
  {
   "cell_type": "markdown",
   "id": "e1465747-132b-40de-bb4a-7e6501a38ec3",
   "metadata": {},
   "source": [
    "### Considerazioni sul clustering "
   ]
  },
  {
   "cell_type": "code",
   "execution_count": null,
   "id": "e745d32f",
   "metadata": {},
   "outputs": [],
   "source": [
    "playstore.describe()"
   ]
  }
 ],
 "metadata": {
  "kernelspec": {
   "display_name": "Python 3 (ipykernel)",
   "language": "python",
   "name": "python3"
  },
  "language_info": {
   "codemirror_mode": {
    "name": "ipython",
    "version": 3
   },
   "file_extension": ".py",
   "mimetype": "text/x-python",
   "name": "python",
   "nbconvert_exporter": "python",
   "pygments_lexer": "ipython3",
   "version": "3.10.13"
  }
 },
 "nbformat": 4,
 "nbformat_minor": 5
}
