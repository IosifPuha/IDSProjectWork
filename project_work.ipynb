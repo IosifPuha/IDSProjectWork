{
 "cells": [
  {
   "cell_type": "markdown",
   "id": "1d50dd67-d7a5-404b-9d8a-9e010e080fb3",
   "metadata": {},
   "source": [
    "## Progetto Finale di introduzione alla DataScience\n",
    "con questo notebook ci poniamo l'obiettivo di\n",
    "* capire quale sia la categoria di applicazioni avente il massimo rapporto tra numero di recensioni e numero di download (che, da adesso, per brevità, chiameremo nr/nd)\n",
    "\n",
    "* capire, dentro a questa categoria, se sono più le app a pagamento o quelle free ad avere un nr/nd più alto\n",
    "\n",
    "* investigare l'esistenza di una eventuale correlazione tra il nr/nd e il rating di una applicazione: se questa metrica cresce, generalmente, il rating aumenterà? Diminuirà? Nessuna delle due? Lo scopriremo\n",
    "\n",
    "Le ipotesi formulate sono quindi le seguenti:\n",
    "1. immaginiamo che la categoria di applicazioni avente il massimo rapporto tra numero di recensioni e numero di download siano le app di categoria PRODUCTIVITY (e pensiamo che la categoria SOCIAL sia la seconda) \n",
    "2. immaginiamo che, all'interno della categoria trovata, generalmente, le app a pagamento avranno un nr/nd più alto rispetto a quelle free\n",
    "3. immaginiamo che, al crescere del rapporto nr/nd diminuisca il rating (perché pensiamo che, di solito, se la maggior parte degli utilizzatori lascia una recensione, è per criticare qualcosa piuttosto che per esprimere soddisfazione)\n",
    "\n",
    "\n",
    "trovare la categoria di app che \"eccelle\" più delle altre in questa metrica potrebbe aiutare, ad esempio, una software house che vuole sviluppare applicazioni particolarmente innovative o che per qualche motivo hanno bisogno di tanti feedback anche dopo varie release: conoscendo i risultati di questa analisi, saprà su quale categoria puntare, avendo trovato la user-base più \"attiva\" possibile."
   ]
  },
  {
   "cell_type": "code",
   "execution_count": null,
   "id": "7d3eb4ff-257e-487d-9b0d-47595a7ce254",
   "metadata": {
    "tags": []
   },
   "outputs": [],
   "source": [
    "## importiamo il necessario:\n",
    "import pandas as pd \n",
    "import matplotlib.pyplot as plt \n",
    "import matplotlib.colors as mcolors\n",
    "import numpy as np\n",
    "import scipy.stats as stats\n",
    "import sklearn\n",
    "#importiamo il dataset e visualizziamo prime 5 righe:\n",
    "playstore = pd.read_csv('googleplaystore.csv')\n",
    "playstore.head()"
   ]
  },
  {
   "cell_type": "code",
   "execution_count": null,
   "id": "1a37753c",
   "metadata": {},
   "outputs": [],
   "source": [
    "#visualizziamo numero di righe e colonne:\n",
    "print(\"Numero Righe, Numero Colonne\",playstore.shape)"
   ]
  },
  {
   "cell_type": "code",
   "execution_count": null,
   "id": "0d969e6d",
   "metadata": {},
   "outputs": [],
   "source": [
    "#visualizziamo le informazioni del dataset:\n",
    "playstore.info()"
   ]
  },
  {
   "cell_type": "code",
   "execution_count": null,
   "id": "ef44a01c",
   "metadata": {},
   "outputs": [],
   "source": [
    "#visualizziamo eventuali valori nulli:\n",
    "playstore.isnull().sum()"
   ]
  },
  {
   "cell_type": "markdown",
   "id": "a38fb318",
   "metadata": {},
   "source": [
    "Come vediamo ci sono ben 1474 righe che hanno valore nullo sulla colonna Rating, potremmo pensare di\n",
    "* rimuovere tutte queste righe (e quindi ridurre significativamente la dimensione del nostro dataset)\n",
    "* \"completare\" i valori nulli usando il valore medio del rating.\n",
    "Optiamo per la prima opzione, in quanto la seconda potrebbe portare ad una distorsione dei dati per quanto riguarda l'analisi che ci proponiamo di attuare, infatti, se pensiamo di voler cercare una correlazione tra nr/nd e Rating e usiamo il valore medio in tutte le righe che presentano attualmente un valore nullo, avremo dei risultati irrealistici in tutte queste righe,\n",
    "## esempio:\n",
    "il rating medio è 2.3, quindi in 1474 entrate avremo il valore 2.3 sulla colonna Rating, ciò significa che poi, quando andremo a cercare la correlazione, potremmo avere:\n",
    "App 1: rating = 2.3, nr/nd = 40%\n",
    "App 2: rating = 2.3, nr/nd = 60%\n",
    "App 3: rating = 2.3, nr/nd = 99%\n",
    "e la nostra analisi è stata inquinata, quando magari, rimuovendo le entrate in cui Rating è nullo avremmo trovato una correlazione"
   ]
  },
  {
   "cell_type": "code",
   "execution_count": null,
   "id": "4d4863b1",
   "metadata": {},
   "outputs": [],
   "source": [
    "#eliminiamo le righe con valori nulli nella colonna 'Rating':\n",
    "playstore = playstore.dropna(axis=0, subset=['Rating'])\n",
    "playstore.isnull().sum()"
   ]
  },
  {
   "cell_type": "markdown",
   "id": "4c1921f6",
   "metadata": {},
   "source": [
    "Analizzando il dataset individuiamo le caratteristiche che, a nostro parere, dovrebbero essere quantitative:\n",
    "* Rating \n",
    "* Reviews\n",
    "* Installs\n",
    "* Size\n",
    "* Price\n"
   ]
  },
  {
   "cell_type": "code",
   "execution_count": null,
   "id": "4c671fd9",
   "metadata": {},
   "outputs": [],
   "source": [
    "playstore.describe() #visualizziamo statistiche del dataset"
   ]
  },
  {
   "cell_type": "markdown",
   "id": "98cd139e",
   "metadata": {},
   "source": [
    "Notiamo che utilizzando il metodo describe abbiamo informazioni solo sulla colonna Rating, come mai le altre (anche se pensiamo essere quantitative) non vengono mostrate?\n",
    "Perché contengono valori come stringhe.\n",
    "Inoltre notiamo qualcosa di \"curioso\" rispetto al valore massimo della colonna Rating, se i rating sul playstore vanno da 1 a 5 stelle, come è possibile che il valore massimo sia 19? C'è una riga problematica nel nostro dataset, che decidiamo di eliminare, in quanto, probabilmente a causa di un errore nel processo di raccolta dei dati, risulta \"disallineata\", ovvero i valori sono spostati di una colonna:"
   ]
  },
  {
   "cell_type": "code",
   "execution_count": null,
   "id": "ec241014",
   "metadata": {},
   "outputs": [],
   "source": [
    "righe_rumorose = playstore[(playstore['Rating']>5) | (playstore['Rating']<1)]\n",
    "print(\"Numero di righe problematiche rispetto al rating: \",righe_rumorose.shape[0]) # controlliamo quante sono, e scopriamo che c'è una sola riga di questo tipo\n",
    "(righe_rumorose.head(1)) # quindi la visualizziamo con head"
   ]
  },
  {
   "cell_type": "markdown",
   "id": "41b486bf",
   "metadata": {},
   "source": [
    "i valori risultano chiaramente spostati di una colonna (dovrebbe essere Rating = 1.9, Reviews=19, Size = 3.0M, eccetera), ma se volessimo \"sistemare\" questa colonna ci troveremmo con un valore nullo dentro alla colonna Category, il che non ci fa comodo perché vogliamo fare l'analisi proprio su questa colonna. Quindi decidiamo di eliminare interamente la riga."
   ]
  },
  {
   "cell_type": "code",
   "execution_count": null,
   "id": "48d08bb6",
   "metadata": {},
   "outputs": [],
   "source": [
    "(playstore.describe()) # prima di eliminarla, ri-visualizziamo le statistiche del dataset\n"
   ]
  },
  {
   "cell_type": "code",
   "execution_count": null,
   "id": "d4a22b77",
   "metadata": {},
   "outputs": [],
   "source": [
    "playstore = playstore.drop(righe_rumorose.index, axis=0) # eliminiamo la riga rumorosa\n",
    "playstore.describe() # visualizziamo le statistiche del dataset dopo aver eliminato la riga rumorosa"
   ]
  },
  {
   "cell_type": "markdown",
   "id": "6e00ea43",
   "metadata": {},
   "source": [
    "**Pulizia dei valori duplicati (se sono presenti)**"
   ]
  },
  {
   "cell_type": "code",
   "execution_count": null,
   "id": "9932748d",
   "metadata": {},
   "outputs": [],
   "source": [
    "#visualizziamo il numero di valori duplicati quindi con lo stesso valore sotto la colonna app:\n",
    "print(\"Numero di valori duplicati: \",playstore.duplicated(subset=['App']).sum())\n",
    "#eliminiamo i valori duplicati:\n",
    "playstore = playstore.drop_duplicates(subset=['App'])\n",
    "#verifichiamo che non ci siano più valori duplicati:\n",
    "print(\"Numero di valori duplicati: \",playstore.duplicated(subset=['App']).sum())\n"
   ]
  },
  {
   "cell_type": "markdown",
   "id": "18cbd98a",
   "metadata": {},
   "source": [
    "torniamo sulle variabili Install, Reviews, Price e Size, che dovrebbero risultare quantitative ma non accade. Prima di tutto guardiamo il tipo"
   ]
  },
  {
   "cell_type": "code",
   "execution_count": null,
   "id": "2f6075e5",
   "metadata": {},
   "outputs": [],
   "source": [
    "print(\"Tipo di Installs:\\t\" + str(type(playstore['Installs'][0])))\n",
    "print(\"Tipo di Reviews:\\t\" + str(type(playstore['Reviews'][0])))\n",
    "print(\"Tipo di Price:\\t\\t\" + str(type(playstore['Price'][0])))\n",
    "print(\"Tipo di Size:\\t\\t\" + str(type(playstore['Size'][0])))"
   ]
  },
  {
   "cell_type": "markdown",
   "id": "b886b599",
   "metadata": {},
   "source": [
    "Notiamo che sono appunto tutte stringhe.\n",
    "Le uniche colonne che però ci interessa realmente pulire e \"rendere quantitative\" sono: Installs e Reviews, in quanto Price e Size non giocano alcun ruolo nella nostra analisi."
   ]
  },
  {
   "cell_type": "markdown",
   "id": "242eca4f",
   "metadata": {},
   "source": [
    "## Trasformiamo Installs\n",
    "Installs contiene valore in formato stringa perché il numero di download è espresso nella forma n+, per indicare che è stata scaricata \"più di n volte\""
   ]
  },
  {
   "cell_type": "code",
   "execution_count": null,
   "id": "20517d6d",
   "metadata": {},
   "outputs": [],
   "source": [
    "if(type(playstore['Installs'][0]) is str):\n",
    "    playstore['Installs'] = [int(x.replace('+','').replace(',','')) for x in playstore['Installs']]\n",
    "# ri-controlliamo le statistiche:\n",
    "playstore.describe()\n",
    "\n"
   ]
  },
  {
   "cell_type": "markdown",
   "id": "eadd5414",
   "metadata": {},
   "source": [
    "## Trasformiamo Reviews\n",
    "Reviews contiene valore in formato stringa, lo trasformiamo in numero usando astype(int)"
   ]
  },
  {
   "cell_type": "code",
   "execution_count": null,
   "id": "ed56adc5",
   "metadata": {},
   "outputs": [],
   "source": [
    "if(type(playstore['Reviews'][0]) is str):\n",
    "    playstore['Reviews'] = playstore['Reviews'].astype(int)\n",
    "# ri-controlliamo le statistiche:\n",
    "playstore.describe()"
   ]
  },
  {
   "cell_type": "markdown",
   "id": "2ced4c31",
   "metadata": {},
   "source": [
    "## Drop di colonne che non utilizzeremo\n",
    "per completare la pulizia, infine, eliminiamo dal dataset le colonne Price e Size (menzionate sopra) e Content Rating, Genres, Last Updated, Current Ver e Android Ver perché di nulla utilità rispetto al nostro obiettivo"
   ]
  },
  {
   "cell_type": "code",
   "execution_count": null,
   "id": "9f753cb6",
   "metadata": {},
   "outputs": [],
   "source": [
    "playstore.drop(columns=['Price', 'Size', 'Content Rating', 'Genres', 'Last Updated', 'Current Ver', 'Android Ver'], inplace=True)\n",
    "playstore.info()\n"
   ]
  },
  {
   "cell_type": "markdown",
   "id": "ae37900b",
   "metadata": {},
   "source": [
    "# Considerazione sul numero di download:\n",
    "Ha senso, ai fini della nostra analisi, considerare applicazioni con un numero relativamente basso di installazioni?\n",
    "Immaginiamo lo sviluppatore 'indie' che fa scaricare e recensire la sua app appena sviluppata a tutta la sua famiglia, che possiamo immaginare di 5 componenti, quando andremo a calcolare il nostro rapporto nr/nd avremo 100%, ma è davvero significativo?\n",
    "Risulta essere un indicatore realmente affidabile su un così basso numero di utenti?\n",
    "Per questo motivo decidiamo di non considerare le applicazioni con meno di 10000 Installs"
   ]
  },
  {
   "cell_type": "code",
   "execution_count": null,
   "id": "4cee8171",
   "metadata": {},
   "outputs": [],
   "source": [
    "# togliamo tutte le applicazioni con meno di 10000 installs:\n",
    "playstore = playstore[playstore['Installs'] >= 10000]\n",
    "playstore.describe()"
   ]
  },
  {
   "cell_type": "code",
   "execution_count": null,
   "id": "81879e03",
   "metadata": {},
   "outputs": [],
   "source": [
    "# calcoliamo il rapporto tra numero di recensioni e numero di installazioni:\n",
    "playstore['nr/nd'] = playstore['Reviews'] / playstore['Installs'] * 100\n",
    "playstore.describe()\n",
    "# ordiniamo il dataset in base al rapporto tra numero di recensioni e numero di installazioni:\n",
    "playstore = playstore.sort_values(by='nr/nd', ascending=False)\n",
    "playstore.head(10) # diamo una occhiata alle prime 10 righe"
   ]
  },
  {
   "cell_type": "markdown",
   "id": "bb93a038",
   "metadata": {},
   "source": [
    "## Problema di precisione nei dati\n",
    "Notiamo valori sospetti dopo aver calcolato nr/nd ed aver ordinato le righe del dataframe in base a questa metrica (ad esempio un rapporto del 400% dovuto al fatto che ci fossero 4 reviews per una applicazione installata da un solo utente, o 20 per 10 utenti, eccetera... ) questo ci ha portato a ulteriori controlli sui dati.\n",
    "Siamo ritornati a pulire i dati, in quanto non è possibile che, per una certa applicazione, ci siano più reviews che installazioni.\n",
    "Ma perché accade questo? Con tutta probabilità, ciò è causato dal fatto che il numero di installazioni non è un numero preciso, bensì un range (infatti come abbiamo detto in precedenza, era indicato nella forma del tipo n+), questo significa che, se una applicazione ha \"1+ downloads\" essa ha un numero di downloads maggiore o uguale a 1 e però minore di 5, se una applicazione ha un numero di downloads listato come 1,000+ significa che ha tra le 1,000 e  le 5,000 installazioni, e così via.\n",
    "Mentre, il numero di reviews è un numero preciso.\n",
    "Per cercare di arginare questo problema procediamo eliminando dal dataset le righe in cui il nr/nd è superiore a 100\n"
   ]
  },
  {
   "cell_type": "code",
   "execution_count": null,
   "id": "9caa31fc",
   "metadata": {},
   "outputs": [],
   "source": [
    "# eliminiamo dal dataset le righe in cui nr/nd è maggiore di 100:\n",
    "playstore = playstore[playstore['nr/nd'] <= 100]"
   ]
  },
  {
   "cell_type": "code",
   "execution_count": null,
   "id": "f8244e6c",
   "metadata": {},
   "outputs": [],
   "source": [
    "# grafico a torta per vedere la distribuzione delle categorie:\n",
    "playstore['Category'].value_counts().plot.pie(autopct='%1.1f%%', figsize=(10,10), labels=None)\n",
    "plt.ylabel('')\n",
    "plt.title('Distribuzione delle categorie')\n",
    "plt.subplots_adjust(right=0.7)  # Aggiungi spazio a destra per la legenda\n",
    "plt.legend(labels=playstore['Category'].value_counts().index, loc='upper right', bbox_to_anchor=(1.3, 1))\n",
    "plt.show()\n"
   ]
  },
  {
   "cell_type": "code",
   "execution_count": null,
   "id": "6167362e",
   "metadata": {},
   "outputs": [],
   "source": [
    "\n",
    "\n",
    "#cerchiamo di capire quale è la categoria con il rapporto tra numero di recensioni e numero di installazioni più alto:\n",
    "playstore.groupby('Category')['nr/nd'].mean().sort_values(ascending=False).plot.bar(figsize=(10,5)) # ordiniamo le categorie in base al rapporto tra numero di recensioni e numero di installazioni, prendendo ogni categoria e calcolando la media di nr/nd\n",
    "plt.ylabel('nr/nd')\n",
    "plt.title('Rapporto tra numero di recensioni e numero di installazioni per categoria')\n",
    "plt.show()"
   ]
  },
  {
   "cell_type": "markdown",
   "id": "d8884c7d",
   "metadata": {},
   "source": [
    "## Risoluzione obiettivo 1:\n",
    "Abbiamo quindi scoperto che la categoria di applicazioni con un nr/nd più alto è la categoria GAME, differentemente da quanto ci aspettavamo (avendo inizialmente ipotizzato PRODUCTIVITY)"
   ]
  },
  {
   "cell_type": "markdown",
   "id": "768f94cf",
   "metadata": {},
   "source": [
    "## Olap"
   ]
  },
  {
   "cell_type": "code",
   "execution_count": null,
   "id": "bb507fb2",
   "metadata": {},
   "outputs": [],
   "source": [
    "# Recuperiamo le diverse categorie per la rappresentazione OLAP\n",
    "quantize_category = np.unique(playstore['Category'])\n",
    "print(\"Categorie: \", quantize_category)\n",
    "print(\"Numero di categorie: \", len(quantize_category))\n",
    "quantize_rating = ['BAD', 'GOOD']\n",
    "quatize_nr_nd = ['LOW', 'MEDIUM', 'HIGH']\n",
    "\n",
    "\n",
    "playstore.info()\n",
    "\n",
    "'''\n",
    "\n",
    "OLAP = np.zeros((len(quantize_category), len(quantize_rating), len(quatize_nr_nd)))\n",
    "\n",
    "\n",
    "playstore.loc[playstore['nr/nd'].between(0, 15), 'nr/nd_quant'] = quatize_nr_nd[0]\n",
    "playstore.loc[playstore['nr/nd'].between(15, 35), 'nr/nd_quant'] = quatize_nr_nd[1]\n",
    "playstore.loc[playstore['nr/nd'].between(35, 100), 'nr/nd_quant'] = quatize_nr_nd[2]\n",
    "for i in range(len(quantize_category)):\n",
    "    for j in range(len(quantize_rating)):\n",
    "        for k in range(len(quatize_nr_nd)):\n",
    "            OLAP[i][j][k] = playstore[(playstore['Category'] == quantize_category[i]) & \n",
    "                                       (playstore['Rating_quant'] == quantize_rating[j]) & \n",
    "                                       (playstore['nr/nd_quant'] == quatize_nr_nd[k])].shape[0]\n",
    "print(OLAP)\n",
    "\n",
    "#Facciamo una heatmap per visualizzare meglio i dati:\n",
    "fig, ax = plt.subplots()\n",
    "im = ax.imshow(OLAP[:, :, 0])\n",
    "ax.set_xticks(np.arange(len(quantize_rating)))\n",
    "ax.set_yticks(np.arange(len(quantize_category)))\n",
    "ax.set_xticklabels(quantize_rating)\n",
    "ax.set_yticklabels(quantize_category)\n",
    "plt.setp(ax.get_xticklabels(), rotation=45, ha=\"right\", rotation_mode=\"anchor\")\n",
    "for i in range(len(quantize_category)):\n",
    "    for j in range(len(quantize_rating)):\n",
    "        text = ax.text(j, i, OLAP[i][j][0], ha=\"center\", va=\"center\", color=\"w\")\n",
    "ax.set_title(\"Heatmap OLAP\")\n",
    "fig.tight_layout()\n",
    "plt.show()\n",
    "\n",
    "\n",
    "\n",
    "'''\n",
    "\n"
   ]
  },
  {
   "cell_type": "code",
   "execution_count": null,
   "id": "12a41570",
   "metadata": {},
   "outputs": [],
   "source": [
    "playstore.loc[playstore['nr/nd'].between(0, 15), 'nr/nd_quant'] = quatize_nr_nd[0]\n",
    "playstore.loc[playstore['nr/nd'].between(15, 35), 'nr/nd_quant'] = quatize_nr_nd[1]\n",
    "playstore.loc[playstore['nr/nd'].between(35, 100), 'nr/nd_quant'] = quatize_nr_nd[2]\n",
    "\n",
    "playstore.loc[playstore['Rating'] <= 3, 'Rating_quant'] = quantize_rating[0]\n",
    "playstore.loc[playstore['Rating'] > 3, 'Rating_quant'] = quantize_rating[1]\n"
   ]
  },
  {
   "cell_type": "code",
   "execution_count": null,
   "id": "140da209",
   "metadata": {},
   "outputs": [],
   "source": [
    "results = pd.DataFrame(columns=['Category', 'Rating', 'nr/nd', 'Count'])\n",
    "playstore['combined'] = playstore['Category'] + \" / \" + playstore['Rating_quant'] + \" / \" + playstore['nr/nd_quant']\n",
    "playstore.head()\n"
   ]
  },
  {
   "cell_type": "code",
   "execution_count": null,
   "id": "7b7cbb74",
   "metadata": {},
   "outputs": [],
   "source": [
    "counts = playstore['combined'].value_counts()\n",
    "\n",
    "for z in range(0,len(quantize_category)):\n",
    "    for j in range(0,len(quantize_rating)):\n",
    "        for i in range(0,len(quatize_nr_nd)):\n",
    "            key = f\"{quantize_category[z]} / {quantize_rating[j]} / {quatize_nr_nd[i]}\"\n",
    "            print(\"Key: \", key) # per vedere come si chiama la chiave (debug)\n",
    "            count = counts.get(key, 0)\n",
    "#Aggiungiamo i risultati al dataframe\n",
    "            results.loc[len(results)] = [quantize_category[z], quantize_rating[j], quatize_nr_nd[i], count]\n",
    "results.head(1000)\n"
   ]
  },
  {
   "cell_type": "code",
   "execution_count": null,
   "id": "fff24217",
   "metadata": {},
   "outputs": [],
   "source": [
    "# printiamo il valore massimo di count\n",
    "print(\"Massimo: \", results['Count'].max())\n",
    "# ordiniamo il dataframe results in base alla colonna count\n",
    "results = results.sort_values(by='Count', ascending=False)\n",
    "results.head(10)"
   ]
  },
  {
   "cell_type": "markdown",
   "id": "047ce5ef",
   "metadata": {},
   "source": [
    "## Interpretazione della visualizzazione qua sopra\n",
    "La tabella results di cui abbiamo visualizzato alcune righe ci comunica le seguenti informazioni riguardo al nostro dataset, rispondendo a questa domanda:\n",
    "Quante sono le applicazioni della categoria X che abbiano un rating buono (o cattivo) ed un nr/nd basso (o medio, o alto)? La risposta a questa domanda viene fornita dalla colonna Count, che conta per l'appunto il numero di occorrenze di tali applicazioni.\n",
    "*esempio*\n",
    "ci sono 1131 applicazioni della categoria FAMILY che hanno un rating GOOD ed un nr/nd LOW."
   ]
  },
  {
   "cell_type": "markdown",
   "id": "244a83d7",
   "metadata": {},
   "source": [
    "## Prima visualizzazione OLAP proposta\n",
    "Siccome abbiamo notato che la categoria FAMILY è quella che si \"prende la fetta più grande\" tra le categorie di applicazioni dello store, e che GAME sia quella mediamente con il rapporto nr/nd più alto, pensiamo sia interessante fare una visualizzazione OLAP per quanto riguarda queste categorie.\n",
    "**slicing**\n",
    "Facciamo innanzitutto uno slicing sulla category"
   ]
  },
  {
   "cell_type": "code",
   "execution_count": null,
   "id": "76fbfbfe",
   "metadata": {},
   "outputs": [],
   "source": [
    "print('FAMILY')\n",
    "family_results = results.loc[results['Category'] == 'FAMILY']\n",
    "# stampiamo i risultati per la categoria FAMILY\n",
    "print(family_results)"
   ]
  },
  {
   "cell_type": "markdown",
   "id": "4e56ab69",
   "metadata": {},
   "source": [
    "**visualizziamo adesso questa matrice, con una heatmap**"
   ]
  },
  {
   "cell_type": "code",
   "execution_count": 28,
   "id": "4b38dda0",
   "metadata": {},
   "outputs": [
    {
     "data": {
      "image/png": "[encoded data removed]",
      "text/plain": [
       "<Figure size 640x480 with 2 Axes>"
      ]
     },
     "metadata": {},
     "output_type": "display_data"
    }
   ],
   "source": [
    "# Trasformiamo i dati in una matrice utilizzando il metodo pivot\n",
    "matrix = family_results.pivot(index='Rating', columns='nr/nd', values='Count')\n",
    "# Creiamo la heatmap utilizzando imshow\n",
    "plt.imshow(matrix, cmap='YlGnBu', interpolation='nearest', norm=mcolors.LogNorm(vmin=1, vmax=1200))\n",
    "\n",
    "# Aggiungiamo una colorbar per indicare il valore dei colori\n",
    "cbar = plt.colorbar(label='Count')\n",
    "\n",
    "# Impostiamo le etichette degli assi\n",
    "plt.xticks(np.arange(len(matrix.columns)), matrix.columns)\n",
    "plt.yticks(np.arange(len(matrix.index)), matrix.index)\n",
    "\n",
    "# Modifichiamo le etichette della colorbar, ci sembra più chiaro avere 1, 10, 100, 1000 espressi così, piuttosto che come potenze di 10 (di default)\n",
    "ticks = [1, 10, 100, 1000]\n",
    "cbar.set_ticks(ticks)\n",
    "cbar.set_ticklabels(ticks)\n",
    "# Mostriamo il grafico\n",
    "plt.show()"
   ]
  }
 ],
 "metadata": {
  "kernelspec": {
   "display_name": "Python 3 (ipykernel)",
   "language": "python",
   "name": "python3"
  },
  "language_info": {
   "codemirror_mode": {
    "name": "ipython",
    "version": 3
   },
   "file_extension": ".py",
   "mimetype": "text/x-python",
   "name": "python",
   "nbconvert_exporter": "python",
   "pygments_lexer": "ipython3",
   "version": "3.8.10"
  }
 },
 "nbformat": 4,
 "nbformat_minor": 5
}
