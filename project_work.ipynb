{
 "cells": [
  {
   "cell_type": "markdown",
   "id": "1d50dd67-d7a5-404b-9d8a-9e010e080fb3",
   "metadata": {},
   "source": [
    "## Progetto Finale di introduzione alla DataScience\n",
    "con questo notebook ci poniamo l'obiettivo di investigare sull'esistenza di una eventuale correlazione tra dimensione (in MegaByte) di una applicazione e numero dei download sul PlayStore"
   ]
  },
  {
   "cell_type": "code",
   "execution_count": 1,
   "id": "7d3eb4ff-257e-487d-9b0d-47595a7ce254",
   "metadata": {
    "tags": []
   },
   "outputs": [],
   "source": [
    "## importiamo il necessario:\n",
    "import pandas as pd \n",
    "import matplotlib.pyplot as plt \n",
    "import numpy as np\n",
    "import scipy.stats as stats\n",
    "import sklearn"
   ]
  }
 ],
 "metadata": {
  "kernelspec": {
   "display_name": "Python 3 (ipykernel)",
   "language": "python",
   "name": "python3"
  },
  "language_info": {
   "codemirror_mode": {
    "name": "ipython",
    "version": 3
   },
   "file_extension": ".py",
   "mimetype": "text/x-python",
   "name": "python",
   "nbconvert_exporter": "python",
   "pygments_lexer": "ipython3",
   "version": "3.10.12"
  }
 },
 "nbformat": 4,
 "nbformat_minor": 5
}
