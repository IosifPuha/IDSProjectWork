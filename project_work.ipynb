{
 "cells": [
  {
   "cell_type": "markdown",
   "id": "1d50dd67-d7a5-404b-9d8a-9e010e080fb3",
   "metadata": {},
   "source": [
    "## Progetto Finale di introduzione alla DataScience\n",
    "con questo notebook ci poniamo l'obiettivo di\n",
    "* capire quale sia la categoria di applicazioni avente il massimo rapporto tra numero di recensioni e numero di download (che, da adesso, per brevità, chiameremo nr/nd)\n",
    "\n",
    "* capire, dentro a questa categoria, se sono più le app a pagamento o quelle free ad avere un nr/nd più alto\n",
    "\n",
    "* investigare l'esistenza di una eventuale correlazione tra il nr/nd e il rating di una applicazione: se questa metrica cresce, generalmente, il rating aumenterà? Diminuirà? Nessuna delle due? Lo scopriremo\n",
    "\n",
    "Le ipotesi formulate sono quindi le seguenti:\n",
    "1. immaginiamo che la categoria di applicazioni avente il massimo rapporto tra numero di recensioni e numero di download siano le app di categoria PRODUCTIVITY (e pensiamo che la categoria SOCIAL sia la seconda) \n",
    "2. immaginiamo che, all'interno della categoria trovata, generalmente, le app a pagamento avranno un nr/nd più alto rispetto a quelle free\n",
    "3. immaginiamo che, al crescere del rapporto nr/nd diminuisca il rating (perché pensiamo che, di solito, se la maggior parte degli utilizzatori lascia una recensione, è per criticare qualcosa piuttosto che per esprimere soddisfazione)\n",
    "\n",
    "\n"
   ]
  },
  {
   "cell_type": "markdown",
   "id": "d6f3bc21",
   "metadata": {},
   "source": [
    "trovare la categoria di app che \"eccelle\" più delle altre in questa metrica potrebbe aiutare, ad esempio, una software house che vuole sviluppare applicazioni particolarmente innovative o che per qualche motivo hanno bisogno di tanti feedback anche dopo varie release: conoscendo i risultati di questa analisi, saprà su quale categoria puntare, avendo trovato la user-base più \"attiva\" possibile."
   ]
  },
  {
   "cell_type": "code",
   "execution_count": 1,
   "id": "7d3eb4ff-257e-487d-9b0d-47595a7ce254",
   "metadata": {
    "tags": []
   },
   "outputs": [
    {
     "data": {
      "text/html": [
       "<div>\n",
       "<style scoped>\n",
       "    .dataframe tbody tr th:only-of-type {\n",
       "        vertical-align: middle;\n",
       "    }\n",
       "\n",
       "    .dataframe tbody tr th {\n",
       "        vertical-align: top;\n",
       "    }\n",
       "\n",
       "    .dataframe thead th {\n",
       "        text-align: right;\n",
       "    }\n",
       "</style>\n",
       "<table border=\"1\" class=\"dataframe\">\n",
       "  <thead>\n",
       "    <tr style=\"text-align: right;\">\n",
       "      <th></th>\n",
       "      <th>App</th>\n",
       "      <th>Category</th>\n",
       "      <th>Rating</th>\n",
       "      <th>Reviews</th>\n",
       "      <th>Size</th>\n",
       "      <th>Installs</th>\n",
       "      <th>Type</th>\n",
       "      <th>Price</th>\n",
       "      <th>Content Rating</th>\n",
       "      <th>Genres</th>\n",
       "      <th>Last Updated</th>\n",
       "      <th>Current Ver</th>\n",
       "      <th>Android Ver</th>\n",
       "    </tr>\n",
       "  </thead>\n",
       "  <tbody>\n",
       "    <tr>\n",
       "      <th>0</th>\n",
       "      <td>Photo Editor &amp; Candy Camera &amp; Grid &amp; ScrapBook</td>\n",
       "      <td>ART_AND_DESIGN</td>\n",
       "      <td>4.1</td>\n",
       "      <td>159</td>\n",
       "      <td>19M</td>\n",
       "      <td>10,000+</td>\n",
       "      <td>Free</td>\n",
       "      <td>0</td>\n",
       "      <td>Everyone</td>\n",
       "      <td>Art &amp; Design</td>\n",
       "      <td>January 7, 2018</td>\n",
       "      <td>1.0.0</td>\n",
       "      <td>4.0.3 and up</td>\n",
       "    </tr>\n",
       "    <tr>\n",
       "      <th>1</th>\n",
       "      <td>Coloring book moana</td>\n",
       "      <td>ART_AND_DESIGN</td>\n",
       "      <td>3.9</td>\n",
       "      <td>967</td>\n",
       "      <td>14M</td>\n",
       "      <td>500,000+</td>\n",
       "      <td>Free</td>\n",
       "      <td>0</td>\n",
       "      <td>Everyone</td>\n",
       "      <td>Art &amp; Design;Pretend Play</td>\n",
       "      <td>January 15, 2018</td>\n",
       "      <td>2.0.0</td>\n",
       "      <td>4.0.3 and up</td>\n",
       "    </tr>\n",
       "    <tr>\n",
       "      <th>2</th>\n",
       "      <td>U Launcher Lite – FREE Live Cool Themes, Hide ...</td>\n",
       "      <td>ART_AND_DESIGN</td>\n",
       "      <td>4.7</td>\n",
       "      <td>87510</td>\n",
       "      <td>8.7M</td>\n",
       "      <td>5,000,000+</td>\n",
       "      <td>Free</td>\n",
       "      <td>0</td>\n",
       "      <td>Everyone</td>\n",
       "      <td>Art &amp; Design</td>\n",
       "      <td>August 1, 2018</td>\n",
       "      <td>1.2.4</td>\n",
       "      <td>4.0.3 and up</td>\n",
       "    </tr>\n",
       "    <tr>\n",
       "      <th>3</th>\n",
       "      <td>Sketch - Draw &amp; Paint</td>\n",
       "      <td>ART_AND_DESIGN</td>\n",
       "      <td>4.5</td>\n",
       "      <td>215644</td>\n",
       "      <td>25M</td>\n",
       "      <td>50,000,000+</td>\n",
       "      <td>Free</td>\n",
       "      <td>0</td>\n",
       "      <td>Teen</td>\n",
       "      <td>Art &amp; Design</td>\n",
       "      <td>June 8, 2018</td>\n",
       "      <td>Varies with device</td>\n",
       "      <td>4.2 and up</td>\n",
       "    </tr>\n",
       "    <tr>\n",
       "      <th>4</th>\n",
       "      <td>Pixel Draw - Number Art Coloring Book</td>\n",
       "      <td>ART_AND_DESIGN</td>\n",
       "      <td>4.3</td>\n",
       "      <td>967</td>\n",
       "      <td>2.8M</td>\n",
       "      <td>100,000+</td>\n",
       "      <td>Free</td>\n",
       "      <td>0</td>\n",
       "      <td>Everyone</td>\n",
       "      <td>Art &amp; Design;Creativity</td>\n",
       "      <td>June 20, 2018</td>\n",
       "      <td>1.1</td>\n",
       "      <td>4.4 and up</td>\n",
       "    </tr>\n",
       "  </tbody>\n",
       "</table>\n",
       "</div>"
      ],
      "text/plain": [
       "                                                 App        Category  Rating  \\\n",
       "0     Photo Editor & Candy Camera & Grid & ScrapBook  ART_AND_DESIGN     4.1   \n",
       "1                                Coloring book moana  ART_AND_DESIGN     3.9   \n",
       "2  U Launcher Lite – FREE Live Cool Themes, Hide ...  ART_AND_DESIGN     4.7   \n",
       "3                              Sketch - Draw & Paint  ART_AND_DESIGN     4.5   \n",
       "4              Pixel Draw - Number Art Coloring Book  ART_AND_DESIGN     4.3   \n",
       "\n",
       "  Reviews  Size     Installs  Type Price Content Rating  \\\n",
       "0     159   19M      10,000+  Free     0       Everyone   \n",
       "1     967   14M     500,000+  Free     0       Everyone   \n",
       "2   87510  8.7M   5,000,000+  Free     0       Everyone   \n",
       "3  215644   25M  50,000,000+  Free     0           Teen   \n",
       "4     967  2.8M     100,000+  Free     0       Everyone   \n",
       "\n",
       "                      Genres      Last Updated         Current Ver  \\\n",
       "0               Art & Design   January 7, 2018               1.0.0   \n",
       "1  Art & Design;Pretend Play  January 15, 2018               2.0.0   \n",
       "2               Art & Design    August 1, 2018               1.2.4   \n",
       "3               Art & Design      June 8, 2018  Varies with device   \n",
       "4    Art & Design;Creativity     June 20, 2018                 1.1   \n",
       "\n",
       "    Android Ver  \n",
       "0  4.0.3 and up  \n",
       "1  4.0.3 and up  \n",
       "2  4.0.3 and up  \n",
       "3    4.2 and up  \n",
       "4    4.4 and up  "
      ]
     },
     "execution_count": 1,
     "metadata": {},
     "output_type": "execute_result"
    }
   ],
   "source": [
    "## importiamo il necessario:\n",
    "import pandas as pd \n",
    "import matplotlib.pyplot as plt \n",
    "import matplotlib.colors as mcolors\n",
    "import numpy as np\n",
    "import scipy.stats as stats\n",
    "import sklearn\n",
    "#importiamo il dataset e visualizziamo prime 5 righe:\n",
    "playstore = pd.read_csv('googleplaystore.csv')\n",
    "playstore.head()"
   ]
  },
  {
   "cell_type": "code",
   "execution_count": 2,
   "id": "1a37753c",
   "metadata": {},
   "outputs": [
    {
     "name": "stdout",
     "output_type": "stream",
     "text": [
      "Numero Righe, Numero Colonne (10841, 13)\n"
     ]
    }
   ],
   "source": [
    "#visualizziamo numero di righe e colonne:\n",
    "print(\"Numero Righe, Numero Colonne\",playstore.shape)"
   ]
  },
  {
   "cell_type": "code",
   "execution_count": 3,
   "id": "0d969e6d",
   "metadata": {},
   "outputs": [
    {
     "name": "stdout",
     "output_type": "stream",
     "text": [
      "<class 'pandas.core.frame.DataFrame'>\n",
      "RangeIndex: 10841 entries, 0 to 10840\n",
      "Data columns (total 13 columns):\n",
      " #   Column          Non-Null Count  Dtype  \n",
      "---  ------          --------------  -----  \n",
      " 0   App             10841 non-null  object \n",
      " 1   Category        10841 non-null  object \n",
      " 2   Rating          9367 non-null   float64\n",
      " 3   Reviews         10841 non-null  object \n",
      " 4   Size            10841 non-null  object \n",
      " 5   Installs        10841 non-null  object \n",
      " 6   Type            10840 non-null  object \n",
      " 7   Price           10841 non-null  object \n",
      " 8   Content Rating  10840 non-null  object \n",
      " 9   Genres          10841 non-null  object \n",
      " 10  Last Updated    10841 non-null  object \n",
      " 11  Current Ver     10833 non-null  object \n",
      " 12  Android Ver     10838 non-null  object \n",
      "dtypes: float64(1), object(12)\n",
      "memory usage: 1.1+ MB\n"
     ]
    }
   ],
   "source": [
    "#visualizziamo le informazioni del dataset:\n",
    "playstore.info()"
   ]
  },
  {
   "cell_type": "code",
   "execution_count": 4,
   "id": "ef44a01c",
   "metadata": {},
   "outputs": [
    {
     "data": {
      "text/plain": [
       "App                  0\n",
       "Category             0\n",
       "Rating            1474\n",
       "Reviews              0\n",
       "Size                 0\n",
       "Installs             0\n",
       "Type                 1\n",
       "Price                0\n",
       "Content Rating       1\n",
       "Genres               0\n",
       "Last Updated         0\n",
       "Current Ver          8\n",
       "Android Ver          3\n",
       "dtype: int64"
      ]
     },
     "execution_count": 4,
     "metadata": {},
     "output_type": "execute_result"
    }
   ],
   "source": [
    "#visualizziamo eventuali valori nulli:\n",
    "playstore.isnull().sum()"
   ]
  },
  {
   "cell_type": "markdown",
   "id": "a38fb318",
   "metadata": {},
   "source": [
    "Come vediamo ci sono ben 1474 righe che hanno valore nullo sulla colonna Rating, potremmo pensare di\n",
    "* rimuovere tutte queste righe (e quindi ridurre significativamente la dimensione del nostro dataset)\n",
    "* \"completare\" i valori nulli usando il valore medio del rating.\n",
    "Optiamo per la prima opzione, in quanto la seconda potrebbe portare ad una distorsione dei dati per quanto riguarda l'analisi che ci proponiamo di attuare, infatti, se pensiamo di voler cercare una correlazione tra nr/nd e Rating e usiamo il valore medio in tutte le righe che presentano attualmente un valore nullo, avremo dei risultati irrealistici in tutte queste righe,\n",
    "## esempio:\n",
    "il rating medio è 2.3, quindi in 1474 entrate avremo il valore 2.3 sulla colonna Rating, ciò significa che poi, quando andremo a cercare la correlazione, potremmo avere:\n",
    "App 1: rating = 2.3, nr/nd = 40%\n",
    "App 2: rating = 2.3, nr/nd = 60%\n",
    "App 3: rating = 2.3, nr/nd = 99%\n",
    "e la nostra analisi è stata inquinata, quando magari, rimuovendo le entrate in cui Rating è nullo avremmo trovato una correlazione"
   ]
  },
  {
   "cell_type": "code",
   "execution_count": 5,
   "id": "4d4863b1",
   "metadata": {},
   "outputs": [
    {
     "data": {
      "text/plain": [
       "App               0\n",
       "Category          0\n",
       "Rating            0\n",
       "Reviews           0\n",
       "Size              0\n",
       "Installs          0\n",
       "Type              0\n",
       "Price             0\n",
       "Content Rating    1\n",
       "Genres            0\n",
       "Last Updated      0\n",
       "Current Ver       4\n",
       "Android Ver       3\n",
       "dtype: int64"
      ]
     },
     "execution_count": 5,
     "metadata": {},
     "output_type": "execute_result"
    }
   ],
   "source": [
    "#eliminiamo le righe con valori nulli nella colonna 'Rating':\n",
    "playstore = playstore.dropna(axis=0, subset=['Rating'])\n",
    "playstore.isnull().sum()"
   ]
  },
  {
   "cell_type": "markdown",
   "id": "4c1921f6",
   "metadata": {},
   "source": [
    "Analizzando il dataset individuiamo le caratteristiche che, a nostro parere, dovrebbero essere quantitative:\n",
    "* Rating \n",
    "* Reviews\n",
    "* Installs\n",
    "* Size\n",
    "* Price\n"
   ]
  },
  {
   "cell_type": "code",
   "execution_count": 6,
   "id": "4c671fd9",
   "metadata": {},
   "outputs": [
    {
     "data": {
      "text/html": [
       "<div>\n",
       "<style scoped>\n",
       "    .dataframe tbody tr th:only-of-type {\n",
       "        vertical-align: middle;\n",
       "    }\n",
       "\n",
       "    .dataframe tbody tr th {\n",
       "        vertical-align: top;\n",
       "    }\n",
       "\n",
       "    .dataframe thead th {\n",
       "        text-align: right;\n",
       "    }\n",
       "</style>\n",
       "<table border=\"1\" class=\"dataframe\">\n",
       "  <thead>\n",
       "    <tr style=\"text-align: right;\">\n",
       "      <th></th>\n",
       "      <th>Rating</th>\n",
       "    </tr>\n",
       "  </thead>\n",
       "  <tbody>\n",
       "    <tr>\n",
       "      <th>count</th>\n",
       "      <td>9367.000000</td>\n",
       "    </tr>\n",
       "    <tr>\n",
       "      <th>mean</th>\n",
       "      <td>4.193338</td>\n",
       "    </tr>\n",
       "    <tr>\n",
       "      <th>std</th>\n",
       "      <td>0.537431</td>\n",
       "    </tr>\n",
       "    <tr>\n",
       "      <th>min</th>\n",
       "      <td>1.000000</td>\n",
       "    </tr>\n",
       "    <tr>\n",
       "      <th>25%</th>\n",
       "      <td>4.000000</td>\n",
       "    </tr>\n",
       "    <tr>\n",
       "      <th>50%</th>\n",
       "      <td>4.300000</td>\n",
       "    </tr>\n",
       "    <tr>\n",
       "      <th>75%</th>\n",
       "      <td>4.500000</td>\n",
       "    </tr>\n",
       "    <tr>\n",
       "      <th>max</th>\n",
       "      <td>19.000000</td>\n",
       "    </tr>\n",
       "  </tbody>\n",
       "</table>\n",
       "</div>"
      ],
      "text/plain": [
       "            Rating\n",
       "count  9367.000000\n",
       "mean      4.193338\n",
       "std       0.537431\n",
       "min       1.000000\n",
       "25%       4.000000\n",
       "50%       4.300000\n",
       "75%       4.500000\n",
       "max      19.000000"
      ]
     },
     "execution_count": 6,
     "metadata": {},
     "output_type": "execute_result"
    }
   ],
   "source": [
    "playstore.describe() #visualizziamo statistiche del dataset"
   ]
  },
  {
   "cell_type": "markdown",
   "id": "98cd139e",
   "metadata": {},
   "source": [
    "Notiamo che utilizzando il metodo describe abbiamo informazioni solo sulla colonna Rating, come mai le altre (anche se pensiamo essere quantitative) non vengono mostrate?\n",
    "Perché contengono valori come stringhe.\n",
    "Inoltre notiamo qualcosa di \"curioso\" rispetto al valore massimo della colonna Rating, se i rating sul playstore vanno da 1 a 5 stelle, come è possibile che il valore massimo sia 19? C'è una riga problematica nel nostro dataset, che decidiamo di eliminare, in quanto, probabilmente a causa di un errore nel processo di raccolta dei dati, risulta \"disallineata\", ovvero i valori sono spostati di una colonna:"
   ]
  },
  {
   "cell_type": "code",
   "execution_count": 7,
   "id": "ec241014",
   "metadata": {},
   "outputs": [
    {
     "name": "stdout",
     "output_type": "stream",
     "text": [
      "Numero di righe problematiche rispetto al rating:  1\n"
     ]
    },
    {
     "data": {
      "text/html": [
       "<div>\n",
       "<style scoped>\n",
       "    .dataframe tbody tr th:only-of-type {\n",
       "        vertical-align: middle;\n",
       "    }\n",
       "\n",
       "    .dataframe tbody tr th {\n",
       "        vertical-align: top;\n",
       "    }\n",
       "\n",
       "    .dataframe thead th {\n",
       "        text-align: right;\n",
       "    }\n",
       "</style>\n",
       "<table border=\"1\" class=\"dataframe\">\n",
       "  <thead>\n",
       "    <tr style=\"text-align: right;\">\n",
       "      <th></th>\n",
       "      <th>App</th>\n",
       "      <th>Category</th>\n",
       "      <th>Rating</th>\n",
       "      <th>Reviews</th>\n",
       "      <th>Size</th>\n",
       "      <th>Installs</th>\n",
       "      <th>Type</th>\n",
       "      <th>Price</th>\n",
       "      <th>Content Rating</th>\n",
       "      <th>Genres</th>\n",
       "      <th>Last Updated</th>\n",
       "      <th>Current Ver</th>\n",
       "      <th>Android Ver</th>\n",
       "    </tr>\n",
       "  </thead>\n",
       "  <tbody>\n",
       "    <tr>\n",
       "      <th>10472</th>\n",
       "      <td>Life Made WI-Fi Touchscreen Photo Frame</td>\n",
       "      <td>1.9</td>\n",
       "      <td>19.0</td>\n",
       "      <td>3.0M</td>\n",
       "      <td>1,000+</td>\n",
       "      <td>Free</td>\n",
       "      <td>0</td>\n",
       "      <td>Everyone</td>\n",
       "      <td>NaN</td>\n",
       "      <td>February 11, 2018</td>\n",
       "      <td>1.0.19</td>\n",
       "      <td>4.0 and up</td>\n",
       "      <td>NaN</td>\n",
       "    </tr>\n",
       "  </tbody>\n",
       "</table>\n",
       "</div>"
      ],
      "text/plain": [
       "                                           App Category  Rating Reviews  \\\n",
       "10472  Life Made WI-Fi Touchscreen Photo Frame      1.9    19.0    3.0M   \n",
       "\n",
       "         Size Installs Type     Price Content Rating             Genres  \\\n",
       "10472  1,000+     Free    0  Everyone            NaN  February 11, 2018   \n",
       "\n",
       "      Last Updated Current Ver Android Ver  \n",
       "10472       1.0.19  4.0 and up         NaN  "
      ]
     },
     "execution_count": 7,
     "metadata": {},
     "output_type": "execute_result"
    }
   ],
   "source": [
    "righe_rumorose = playstore[(playstore['Rating']>5) | (playstore['Rating']<1)]\n",
    "print(\"Numero di righe problematiche rispetto al rating: \",righe_rumorose.shape[0]) # controlliamo quante sono, e scopriamo che c'è una sola riga di questo tipo\n",
    "(righe_rumorose.head(1)) # quindi la visualizziamo con head"
   ]
  },
  {
   "cell_type": "markdown",
   "id": "41b486bf",
   "metadata": {},
   "source": [
    "i valori risultano chiaramente spostati di una colonna (dovrebbe essere Rating = 1.9, Reviews=19, Size = 3.0M, eccetera), ma se volessimo \"sistemare\" questa colonna ci troveremmo con un valore nullo dentro alla colonna Category, il che non ci fa comodo perché vogliamo fare l'analisi proprio su questa colonna. Quindi decidiamo di eliminare interamente la riga."
   ]
  },
  {
   "cell_type": "code",
   "execution_count": 8,
   "id": "48d08bb6",
   "metadata": {},
   "outputs": [
    {
     "data": {
      "text/html": [
       "<div>\n",
       "<style scoped>\n",
       "    .dataframe tbody tr th:only-of-type {\n",
       "        vertical-align: middle;\n",
       "    }\n",
       "\n",
       "    .dataframe tbody tr th {\n",
       "        vertical-align: top;\n",
       "    }\n",
       "\n",
       "    .dataframe thead th {\n",
       "        text-align: right;\n",
       "    }\n",
       "</style>\n",
       "<table border=\"1\" class=\"dataframe\">\n",
       "  <thead>\n",
       "    <tr style=\"text-align: right;\">\n",
       "      <th></th>\n",
       "      <th>Rating</th>\n",
       "    </tr>\n",
       "  </thead>\n",
       "  <tbody>\n",
       "    <tr>\n",
       "      <th>count</th>\n",
       "      <td>9367.000000</td>\n",
       "    </tr>\n",
       "    <tr>\n",
       "      <th>mean</th>\n",
       "      <td>4.193338</td>\n",
       "    </tr>\n",
       "    <tr>\n",
       "      <th>std</th>\n",
       "      <td>0.537431</td>\n",
       "    </tr>\n",
       "    <tr>\n",
       "      <th>min</th>\n",
       "      <td>1.000000</td>\n",
       "    </tr>\n",
       "    <tr>\n",
       "      <th>25%</th>\n",
       "      <td>4.000000</td>\n",
       "    </tr>\n",
       "    <tr>\n",
       "      <th>50%</th>\n",
       "      <td>4.300000</td>\n",
       "    </tr>\n",
       "    <tr>\n",
       "      <th>75%</th>\n",
       "      <td>4.500000</td>\n",
       "    </tr>\n",
       "    <tr>\n",
       "      <th>max</th>\n",
       "      <td>19.000000</td>\n",
       "    </tr>\n",
       "  </tbody>\n",
       "</table>\n",
       "</div>"
      ],
      "text/plain": [
       "            Rating\n",
       "count  9367.000000\n",
       "mean      4.193338\n",
       "std       0.537431\n",
       "min       1.000000\n",
       "25%       4.000000\n",
       "50%       4.300000\n",
       "75%       4.500000\n",
       "max      19.000000"
      ]
     },
     "execution_count": 8,
     "metadata": {},
     "output_type": "execute_result"
    }
   ],
   "source": [
    "(playstore.describe()) # prima di eliminarla, ri-visualizziamo le statistiche del dataset\n"
   ]
  },
  {
   "cell_type": "code",
   "execution_count": 9,
   "id": "d4a22b77",
   "metadata": {},
   "outputs": [
    {
     "data": {
      "text/html": [
       "<div>\n",
       "<style scoped>\n",
       "    .dataframe tbody tr th:only-of-type {\n",
       "        vertical-align: middle;\n",
       "    }\n",
       "\n",
       "    .dataframe tbody tr th {\n",
       "        vertical-align: top;\n",
       "    }\n",
       "\n",
       "    .dataframe thead th {\n",
       "        text-align: right;\n",
       "    }\n",
       "</style>\n",
       "<table border=\"1\" class=\"dataframe\">\n",
       "  <thead>\n",
       "    <tr style=\"text-align: right;\">\n",
       "      <th></th>\n",
       "      <th>Rating</th>\n",
       "    </tr>\n",
       "  </thead>\n",
       "  <tbody>\n",
       "    <tr>\n",
       "      <th>count</th>\n",
       "      <td>9366.000000</td>\n",
       "    </tr>\n",
       "    <tr>\n",
       "      <th>mean</th>\n",
       "      <td>4.191757</td>\n",
       "    </tr>\n",
       "    <tr>\n",
       "      <th>std</th>\n",
       "      <td>0.515219</td>\n",
       "    </tr>\n",
       "    <tr>\n",
       "      <th>min</th>\n",
       "      <td>1.000000</td>\n",
       "    </tr>\n",
       "    <tr>\n",
       "      <th>25%</th>\n",
       "      <td>4.000000</td>\n",
       "    </tr>\n",
       "    <tr>\n",
       "      <th>50%</th>\n",
       "      <td>4.300000</td>\n",
       "    </tr>\n",
       "    <tr>\n",
       "      <th>75%</th>\n",
       "      <td>4.500000</td>\n",
       "    </tr>\n",
       "    <tr>\n",
       "      <th>max</th>\n",
       "      <td>5.000000</td>\n",
       "    </tr>\n",
       "  </tbody>\n",
       "</table>\n",
       "</div>"
      ],
      "text/plain": [
       "            Rating\n",
       "count  9366.000000\n",
       "mean      4.191757\n",
       "std       0.515219\n",
       "min       1.000000\n",
       "25%       4.000000\n",
       "50%       4.300000\n",
       "75%       4.500000\n",
       "max       5.000000"
      ]
     },
     "execution_count": 9,
     "metadata": {},
     "output_type": "execute_result"
    }
   ],
   "source": [
    "playstore = playstore.drop(righe_rumorose.index, axis=0) # eliminiamo la riga rumorosa\n",
    "playstore.describe() # visualizziamo le statistiche del dataset dopo aver eliminato la riga rumorosa"
   ]
  },
  {
   "cell_type": "markdown",
   "id": "6e00ea43",
   "metadata": {},
   "source": [
    "**Pulizia dei valori duplicati (se sono presenti)**"
   ]
  },
  {
   "cell_type": "code",
   "execution_count": 10,
   "id": "9932748d",
   "metadata": {},
   "outputs": [
    {
     "name": "stdout",
     "output_type": "stream",
     "text": [
      "Numero di valori duplicati:  1170\n",
      "Numero di valori duplicati:  0\n"
     ]
    }
   ],
   "source": [
    "#visualizziamo il numero di valori duplicati quindi con lo stesso valore sotto la colonna app:\n",
    "print(\"Numero di valori duplicati: \",playstore.duplicated(subset=['App']).sum())\n",
    "#eliminiamo i valori duplicati:\n",
    "playstore = playstore.drop_duplicates(subset=['App'])\n",
    "#verifichiamo che non ci siano più valori duplicati:\n",
    "print(\"Numero di valori duplicati: \",playstore.duplicated(subset=['App']).sum())\n"
   ]
  },
  {
   "cell_type": "markdown",
   "id": "18cbd98a",
   "metadata": {},
   "source": [
    "torniamo sulle variabili Install, Reviews, Price e Size, che dovrebbero risultare quantitative ma non accade. Prima di tutto guardiamo il tipo"
   ]
  },
  {
   "cell_type": "code",
   "execution_count": 11,
   "id": "2f6075e5",
   "metadata": {},
   "outputs": [
    {
     "name": "stdout",
     "output_type": "stream",
     "text": [
      "Tipo di Installs:\t<class 'str'>\n",
      "Tipo di Reviews:\t<class 'str'>\n",
      "Tipo di Price:\t\t<class 'str'>\n",
      "Tipo di Size:\t\t<class 'str'>\n"
     ]
    }
   ],
   "source": [
    "print(\"Tipo di Installs:\\t\" + str(type(playstore['Installs'][0])))\n",
    "print(\"Tipo di Reviews:\\t\" + str(type(playstore['Reviews'][0])))\n",
    "print(\"Tipo di Price:\\t\\t\" + str(type(playstore['Price'][0])))\n",
    "print(\"Tipo di Size:\\t\\t\" + str(type(playstore['Size'][0])))"
   ]
  },
  {
   "cell_type": "markdown",
   "id": "b886b599",
   "metadata": {},
   "source": [
    "Notiamo che sono appunto tutte stringhe.\n",
    "Le uniche colonne che però ci interessa realmente pulire e \"rendere quantitative\" sono: Installs e Reviews, in quanto Price e Size non giocano alcun ruolo nella nostra analisi."
   ]
  },
  {
   "cell_type": "markdown",
   "id": "242eca4f",
   "metadata": {},
   "source": [
    "## Trasformiamo Installs\n",
    "Installs contiene valore in formato stringa perché il numero di download è espresso nella forma n+, per indicare che è stata scaricata \"più di n volte\""
   ]
  },
  {
   "cell_type": "code",
   "execution_count": 12,
   "id": "20517d6d",
   "metadata": {},
   "outputs": [
    {
     "data": {
      "text/html": [
       "<div>\n",
       "<style scoped>\n",
       "    .dataframe tbody tr th:only-of-type {\n",
       "        vertical-align: middle;\n",
       "    }\n",
       "\n",
       "    .dataframe tbody tr th {\n",
       "        vertical-align: top;\n",
       "    }\n",
       "\n",
       "    .dataframe thead th {\n",
       "        text-align: right;\n",
       "    }\n",
       "</style>\n",
       "<table border=\"1\" class=\"dataframe\">\n",
       "  <thead>\n",
       "    <tr style=\"text-align: right;\">\n",
       "      <th></th>\n",
       "      <th>Rating</th>\n",
       "      <th>Installs</th>\n",
       "    </tr>\n",
       "  </thead>\n",
       "  <tbody>\n",
       "    <tr>\n",
       "      <th>count</th>\n",
       "      <td>8196.000000</td>\n",
       "      <td>8.196000e+03</td>\n",
       "    </tr>\n",
       "    <tr>\n",
       "      <th>mean</th>\n",
       "      <td>4.173243</td>\n",
       "      <td>9.165090e+06</td>\n",
       "    </tr>\n",
       "    <tr>\n",
       "      <th>std</th>\n",
       "      <td>0.536625</td>\n",
       "      <td>5.825087e+07</td>\n",
       "    </tr>\n",
       "    <tr>\n",
       "      <th>min</th>\n",
       "      <td>1.000000</td>\n",
       "      <td>1.000000e+00</td>\n",
       "    </tr>\n",
       "    <tr>\n",
       "      <th>25%</th>\n",
       "      <td>4.000000</td>\n",
       "      <td>1.000000e+04</td>\n",
       "    </tr>\n",
       "    <tr>\n",
       "      <th>50%</th>\n",
       "      <td>4.300000</td>\n",
       "      <td>1.000000e+05</td>\n",
       "    </tr>\n",
       "    <tr>\n",
       "      <th>75%</th>\n",
       "      <td>4.500000</td>\n",
       "      <td>1.000000e+06</td>\n",
       "    </tr>\n",
       "    <tr>\n",
       "      <th>max</th>\n",
       "      <td>5.000000</td>\n",
       "      <td>1.000000e+09</td>\n",
       "    </tr>\n",
       "  </tbody>\n",
       "</table>\n",
       "</div>"
      ],
      "text/plain": [
       "            Rating      Installs\n",
       "count  8196.000000  8.196000e+03\n",
       "mean      4.173243  9.165090e+06\n",
       "std       0.536625  5.825087e+07\n",
       "min       1.000000  1.000000e+00\n",
       "25%       4.000000  1.000000e+04\n",
       "50%       4.300000  1.000000e+05\n",
       "75%       4.500000  1.000000e+06\n",
       "max       5.000000  1.000000e+09"
      ]
     },
     "execution_count": 12,
     "metadata": {},
     "output_type": "execute_result"
    }
   ],
   "source": [
    "if(type(playstore['Installs'][0]) is str):\n",
    "    playstore['Installs'] = [int(x.replace('+','').replace(',','')) for x in playstore['Installs']]\n",
    "# ri-controlliamo le statistiche:\n",
    "playstore.describe()\n",
    "\n"
   ]
  },
  {
   "cell_type": "markdown",
   "id": "eadd5414",
   "metadata": {},
   "source": [
    "## Trasformiamo Reviews\n",
    "Reviews contiene valore in formato stringa, lo trasformiamo in numero usando astype(int)"
   ]
  },
  {
   "cell_type": "code",
   "execution_count": 13,
   "id": "ed56adc5",
   "metadata": {},
   "outputs": [
    {
     "data": {
      "text/html": [
       "<div>\n",
       "<style scoped>\n",
       "    .dataframe tbody tr th:only-of-type {\n",
       "        vertical-align: middle;\n",
       "    }\n",
       "\n",
       "    .dataframe tbody tr th {\n",
       "        vertical-align: top;\n",
       "    }\n",
       "\n",
       "    .dataframe thead th {\n",
       "        text-align: right;\n",
       "    }\n",
       "</style>\n",
       "<table border=\"1\" class=\"dataframe\">\n",
       "  <thead>\n",
       "    <tr style=\"text-align: right;\">\n",
       "      <th></th>\n",
       "      <th>Rating</th>\n",
       "      <th>Reviews</th>\n",
       "      <th>Installs</th>\n",
       "    </tr>\n",
       "  </thead>\n",
       "  <tbody>\n",
       "    <tr>\n",
       "      <th>count</th>\n",
       "      <td>8196.000000</td>\n",
       "      <td>8.196000e+03</td>\n",
       "      <td>8.196000e+03</td>\n",
       "    </tr>\n",
       "    <tr>\n",
       "      <th>mean</th>\n",
       "      <td>4.173243</td>\n",
       "      <td>2.552515e+05</td>\n",
       "      <td>9.165090e+06</td>\n",
       "    </tr>\n",
       "    <tr>\n",
       "      <th>std</th>\n",
       "      <td>0.536625</td>\n",
       "      <td>1.985594e+06</td>\n",
       "      <td>5.825087e+07</td>\n",
       "    </tr>\n",
       "    <tr>\n",
       "      <th>min</th>\n",
       "      <td>1.000000</td>\n",
       "      <td>1.000000e+00</td>\n",
       "      <td>1.000000e+00</td>\n",
       "    </tr>\n",
       "    <tr>\n",
       "      <th>25%</th>\n",
       "      <td>4.000000</td>\n",
       "      <td>1.260000e+02</td>\n",
       "      <td>1.000000e+04</td>\n",
       "    </tr>\n",
       "    <tr>\n",
       "      <th>50%</th>\n",
       "      <td>4.300000</td>\n",
       "      <td>3.004000e+03</td>\n",
       "      <td>1.000000e+05</td>\n",
       "    </tr>\n",
       "    <tr>\n",
       "      <th>75%</th>\n",
       "      <td>4.500000</td>\n",
       "      <td>4.381300e+04</td>\n",
       "      <td>1.000000e+06</td>\n",
       "    </tr>\n",
       "    <tr>\n",
       "      <th>max</th>\n",
       "      <td>5.000000</td>\n",
       "      <td>7.815831e+07</td>\n",
       "      <td>1.000000e+09</td>\n",
       "    </tr>\n",
       "  </tbody>\n",
       "</table>\n",
       "</div>"
      ],
      "text/plain": [
       "            Rating       Reviews      Installs\n",
       "count  8196.000000  8.196000e+03  8.196000e+03\n",
       "mean      4.173243  2.552515e+05  9.165090e+06\n",
       "std       0.536625  1.985594e+06  5.825087e+07\n",
       "min       1.000000  1.000000e+00  1.000000e+00\n",
       "25%       4.000000  1.260000e+02  1.000000e+04\n",
       "50%       4.300000  3.004000e+03  1.000000e+05\n",
       "75%       4.500000  4.381300e+04  1.000000e+06\n",
       "max       5.000000  7.815831e+07  1.000000e+09"
      ]
     },
     "execution_count": 13,
     "metadata": {},
     "output_type": "execute_result"
    }
   ],
   "source": [
    "if(type(playstore['Reviews'][0]) is str):\n",
    "    playstore['Reviews'] = playstore['Reviews'].astype(int)\n",
    "# ri-controlliamo le statistiche:\n",
    "playstore.describe()"
   ]
  },
  {
   "cell_type": "markdown",
   "id": "2ced4c31",
   "metadata": {},
   "source": [
    "## Drop di colonne che non utilizzeremo\n",
    "per completare la pulizia, infine, eliminiamo dal dataset le colonne Price e Size (menzionate sopra) e Content Rating, Genres, Last Updated, Current Ver e Android Ver perché di nulla utilità rispetto al nostro obiettivo"
   ]
  },
  {
   "cell_type": "code",
   "execution_count": 14,
   "id": "9f753cb6",
   "metadata": {},
   "outputs": [
    {
     "name": "stdout",
     "output_type": "stream",
     "text": [
      "<class 'pandas.core.frame.DataFrame'>\n",
      "Index: 8196 entries, 0 to 10840\n",
      "Data columns (total 6 columns):\n",
      " #   Column    Non-Null Count  Dtype  \n",
      "---  ------    --------------  -----  \n",
      " 0   App       8196 non-null   object \n",
      " 1   Category  8196 non-null   object \n",
      " 2   Rating    8196 non-null   float64\n",
      " 3   Reviews   8196 non-null   int64  \n",
      " 4   Installs  8196 non-null   int64  \n",
      " 5   Type      8196 non-null   object \n",
      "dtypes: float64(1), int64(2), object(3)\n",
      "memory usage: 706.3+ KB\n"
     ]
    }
   ],
   "source": [
    "playstore.drop(columns=['Price', 'Size', 'Content Rating', 'Genres', 'Last Updated', 'Current Ver', 'Android Ver'], inplace=True)\n",
    "playstore.info()\n"
   ]
  },
  {
   "cell_type": "markdown",
   "id": "ae37900b",
   "metadata": {},
   "source": [
    "# Considerazione sul numero di download:\n",
    "Ha senso, ai fini della nostra analisi, considerare applicazioni con un numero relativamente basso di installazioni?\n",
    "Immaginiamo lo sviluppatore 'indie' che fa scaricare e recensire la sua app appena sviluppata a 5 suoi conoscenti, quando andremo a calcolare il nostro rapporto nr/nd avremo 100%, ma è davvero significativo?\n",
    "Risulta essere un indicatore realmente affidabile su un così basso numero di utenti?\n",
    "Per questo motivo decidiamo di non considerare le applicazioni con meno di 10000 Installs"
   ]
  },
  {
   "cell_type": "code",
   "execution_count": 15,
   "id": "4cee8171",
   "metadata": {},
   "outputs": [
    {
     "data": {
      "text/html": [
       "<div>\n",
       "<style scoped>\n",
       "    .dataframe tbody tr th:only-of-type {\n",
       "        vertical-align: middle;\n",
       "    }\n",
       "\n",
       "    .dataframe tbody tr th {\n",
       "        vertical-align: top;\n",
       "    }\n",
       "\n",
       "    .dataframe thead th {\n",
       "        text-align: right;\n",
       "    }\n",
       "</style>\n",
       "<table border=\"1\" class=\"dataframe\">\n",
       "  <thead>\n",
       "    <tr style=\"text-align: right;\">\n",
       "      <th></th>\n",
       "      <th>Rating</th>\n",
       "      <th>Reviews</th>\n",
       "      <th>Installs</th>\n",
       "    </tr>\n",
       "  </thead>\n",
       "  <tbody>\n",
       "    <tr>\n",
       "      <th>count</th>\n",
       "      <td>6435.000000</td>\n",
       "      <td>6.435000e+03</td>\n",
       "      <td>6.435000e+03</td>\n",
       "    </tr>\n",
       "    <tr>\n",
       "      <th>mean</th>\n",
       "      <td>4.178104</td>\n",
       "      <td>3.250907e+05</td>\n",
       "      <td>1.167275e+07</td>\n",
       "    </tr>\n",
       "    <tr>\n",
       "      <th>std</th>\n",
       "      <td>0.438985</td>\n",
       "      <td>2.235838e+06</td>\n",
       "      <td>6.551800e+07</td>\n",
       "    </tr>\n",
       "    <tr>\n",
       "      <th>min</th>\n",
       "      <td>1.600000</td>\n",
       "      <td>6.000000e+00</td>\n",
       "      <td>1.000000e+04</td>\n",
       "    </tr>\n",
       "    <tr>\n",
       "      <th>25%</th>\n",
       "      <td>4.000000</td>\n",
       "      <td>9.630000e+02</td>\n",
       "      <td>1.000000e+05</td>\n",
       "    </tr>\n",
       "    <tr>\n",
       "      <th>50%</th>\n",
       "      <td>4.300000</td>\n",
       "      <td>1.065800e+04</td>\n",
       "      <td>1.000000e+06</td>\n",
       "    </tr>\n",
       "    <tr>\n",
       "      <th>75%</th>\n",
       "      <td>4.500000</td>\n",
       "      <td>7.823500e+04</td>\n",
       "      <td>5.000000e+06</td>\n",
       "    </tr>\n",
       "    <tr>\n",
       "      <th>max</th>\n",
       "      <td>5.000000</td>\n",
       "      <td>7.815831e+07</td>\n",
       "      <td>1.000000e+09</td>\n",
       "    </tr>\n",
       "  </tbody>\n",
       "</table>\n",
       "</div>"
      ],
      "text/plain": [
       "            Rating       Reviews      Installs\n",
       "count  6435.000000  6.435000e+03  6.435000e+03\n",
       "mean      4.178104  3.250907e+05  1.167275e+07\n",
       "std       0.438985  2.235838e+06  6.551800e+07\n",
       "min       1.600000  6.000000e+00  1.000000e+04\n",
       "25%       4.000000  9.630000e+02  1.000000e+05\n",
       "50%       4.300000  1.065800e+04  1.000000e+06\n",
       "75%       4.500000  7.823500e+04  5.000000e+06\n",
       "max       5.000000  7.815831e+07  1.000000e+09"
      ]
     },
     "execution_count": 15,
     "metadata": {},
     "output_type": "execute_result"
    }
   ],
   "source": [
    "# togliamo tutte le applicazioni con meno di 10000 installs:\n",
    "playstore = playstore[playstore['Installs'] >= 10000]\n",
    "playstore.describe()"
   ]
  },
  {
   "cell_type": "code",
   "execution_count": 16,
   "id": "81879e03",
   "metadata": {},
   "outputs": [
    {
     "data": {
      "text/html": [
       "<div>\n",
       "<style scoped>\n",
       "    .dataframe tbody tr th:only-of-type {\n",
       "        vertical-align: middle;\n",
       "    }\n",
       "\n",
       "    .dataframe tbody tr th {\n",
       "        vertical-align: top;\n",
       "    }\n",
       "\n",
       "    .dataframe thead th {\n",
       "        text-align: right;\n",
       "    }\n",
       "</style>\n",
       "<table border=\"1\" class=\"dataframe\">\n",
       "  <thead>\n",
       "    <tr style=\"text-align: right;\">\n",
       "      <th></th>\n",
       "      <th>App</th>\n",
       "      <th>Category</th>\n",
       "      <th>Rating</th>\n",
       "      <th>Reviews</th>\n",
       "      <th>Installs</th>\n",
       "      <th>Type</th>\n",
       "      <th>nr/nd</th>\n",
       "    </tr>\n",
       "  </thead>\n",
       "  <tbody>\n",
       "    <tr>\n",
       "      <th>4663</th>\n",
       "      <td>Alarmy (Sleep If U Can) - Pro</td>\n",
       "      <td>LIFESTYLE</td>\n",
       "      <td>4.8</td>\n",
       "      <td>10249</td>\n",
       "      <td>10000</td>\n",
       "      <td>Paid</td>\n",
       "      <td>102.490000</td>\n",
       "    </tr>\n",
       "    <tr>\n",
       "      <th>7165</th>\n",
       "      <td>My Movies Pro - Movie &amp; TV Collection Library</td>\n",
       "      <td>LIFESTYLE</td>\n",
       "      <td>4.6</td>\n",
       "      <td>6477</td>\n",
       "      <td>10000</td>\n",
       "      <td>Paid</td>\n",
       "      <td>64.770000</td>\n",
       "    </tr>\n",
       "    <tr>\n",
       "      <th>9304</th>\n",
       "      <td>Carrier Landings Pro</td>\n",
       "      <td>FAMILY</td>\n",
       "      <td>4.6</td>\n",
       "      <td>5969</td>\n",
       "      <td>10000</td>\n",
       "      <td>Paid</td>\n",
       "      <td>59.690000</td>\n",
       "    </tr>\n",
       "    <tr>\n",
       "      <th>9627</th>\n",
       "      <td>ai.type keyboard Plus + Emoji</td>\n",
       "      <td>TOOLS</td>\n",
       "      <td>4.5</td>\n",
       "      <td>57076</td>\n",
       "      <td>100000</td>\n",
       "      <td>Paid</td>\n",
       "      <td>57.076000</td>\n",
       "    </tr>\n",
       "    <tr>\n",
       "      <th>4946</th>\n",
       "      <td>Flud (Ad free)</td>\n",
       "      <td>VIDEO_PLAYERS</td>\n",
       "      <td>4.8</td>\n",
       "      <td>5639</td>\n",
       "      <td>10000</td>\n",
       "      <td>Paid</td>\n",
       "      <td>56.390000</td>\n",
       "    </tr>\n",
       "    <tr>\n",
       "      <th>4556</th>\n",
       "      <td>Day R Premium</td>\n",
       "      <td>FAMILY</td>\n",
       "      <td>4.8</td>\n",
       "      <td>51068</td>\n",
       "      <td>100000</td>\n",
       "      <td>Paid</td>\n",
       "      <td>51.068000</td>\n",
       "    </tr>\n",
       "    <tr>\n",
       "      <th>7610</th>\n",
       "      <td>Ski Safari: Adventure Time</td>\n",
       "      <td>FAMILY</td>\n",
       "      <td>4.5</td>\n",
       "      <td>48754</td>\n",
       "      <td>100000</td>\n",
       "      <td>Paid</td>\n",
       "      <td>48.754000</td>\n",
       "    </tr>\n",
       "    <tr>\n",
       "      <th>1670</th>\n",
       "      <td>Clash of Clans</td>\n",
       "      <td>GAME</td>\n",
       "      <td>4.6</td>\n",
       "      <td>44891723</td>\n",
       "      <td>100000000</td>\n",
       "      <td>Free</td>\n",
       "      <td>44.891723</td>\n",
       "    </tr>\n",
       "    <tr>\n",
       "      <th>4203</th>\n",
       "      <td>The World Ends With You</td>\n",
       "      <td>GAME</td>\n",
       "      <td>4.6</td>\n",
       "      <td>4108</td>\n",
       "      <td>10000</td>\n",
       "      <td>Paid</td>\n",
       "      <td>41.080000</td>\n",
       "    </tr>\n",
       "    <tr>\n",
       "      <th>3442</th>\n",
       "      <td>Smart Launcher Pro 3</td>\n",
       "      <td>PERSONALIZATION</td>\n",
       "      <td>4.6</td>\n",
       "      <td>40704</td>\n",
       "      <td>100000</td>\n",
       "      <td>Paid</td>\n",
       "      <td>40.704000</td>\n",
       "    </tr>\n",
       "  </tbody>\n",
       "</table>\n",
       "</div>"
      ],
      "text/plain": [
       "                                                App         Category  Rating  \\\n",
       "4663                  Alarmy (Sleep If U Can) - Pro        LIFESTYLE     4.8   \n",
       "7165  My Movies Pro - Movie & TV Collection Library        LIFESTYLE     4.6   \n",
       "9304                           Carrier Landings Pro           FAMILY     4.6   \n",
       "9627                  ai.type keyboard Plus + Emoji            TOOLS     4.5   \n",
       "4946                                 Flud (Ad free)    VIDEO_PLAYERS     4.8   \n",
       "4556                                  Day R Premium           FAMILY     4.8   \n",
       "7610                     Ski Safari: Adventure Time           FAMILY     4.5   \n",
       "1670                                 Clash of Clans             GAME     4.6   \n",
       "4203                        The World Ends With You             GAME     4.6   \n",
       "3442                           Smart Launcher Pro 3  PERSONALIZATION     4.6   \n",
       "\n",
       "       Reviews   Installs  Type       nr/nd  \n",
       "4663     10249      10000  Paid  102.490000  \n",
       "7165      6477      10000  Paid   64.770000  \n",
       "9304      5969      10000  Paid   59.690000  \n",
       "9627     57076     100000  Paid   57.076000  \n",
       "4946      5639      10000  Paid   56.390000  \n",
       "4556     51068     100000  Paid   51.068000  \n",
       "7610     48754     100000  Paid   48.754000  \n",
       "1670  44891723  100000000  Free   44.891723  \n",
       "4203      4108      10000  Paid   41.080000  \n",
       "3442     40704     100000  Paid   40.704000  "
      ]
     },
     "execution_count": 16,
     "metadata": {},
     "output_type": "execute_result"
    }
   ],
   "source": [
    "# calcoliamo il rapporto tra numero di recensioni e numero di installazioni:\n",
    "playstore['nr/nd'] = playstore['Reviews'] / playstore['Installs'] * 100\n",
    "playstore.describe()\n",
    "# ordiniamo il dataset in base al rapporto tra numero di recensioni e numero di installazioni:\n",
    "playstore = playstore.sort_values(by='nr/nd', ascending=False)\n",
    "playstore.head(10) # diamo una occhiata alle prime 10 righe"
   ]
  },
  {
   "cell_type": "markdown",
   "id": "bb93a038",
   "metadata": {},
   "source": [
    "## Problema di precisione nei dati\n",
    "Notiamo valori sospetti dopo aver calcolato nr/nd ed aver ordinato le righe del dataframe in base a questa metrica (ad esempio un rapporto del 102% dovuto al fatto che ci fossero 10249 reviews per una applicazione installata 10000 volte) questo ci ha portato a ulteriori controlli sui dati.\n",
    "Siamo ritornati a pulire i dati, in quanto non è possibile che, per una certa applicazione, ci siano più reviews che installazioni.\n",
    "Ma perché accade questo? Con tutta probabilità, ciò è causato dal fatto che il numero di installazioni non è un numero preciso, bensì un range (infatti come abbiamo detto in precedenza, era indicato nella forma del tipo n+), questo significa che, se una applicazione ha \"1+ downloads\" essa ha un numero di downloads maggiore o uguale a 1 e però minore di 5, se una applicazione ha un numero di downloads listato come 1,000+ significa che ha tra le 1,000 e  le 5,000 installazioni, e così via.\n",
    "Mentre, il numero di reviews è un numero preciso.\n",
    "Per cercare di arginare questo problema procediamo eliminando dal dataset le righe in cui il nr/nd è superiore a 100\n"
   ]
  },
  {
   "cell_type": "code",
   "execution_count": 17,
   "id": "9caa31fc",
   "metadata": {},
   "outputs": [],
   "source": [
    "# eliminiamo dal dataset le righe in cui nr/nd è maggiore di 100:\n",
    "playstore = playstore[playstore['nr/nd'] <= 100]"
   ]
  },
  {
   "cell_type": "code",
   "execution_count": 18,
   "id": "f8244e6c",
   "metadata": {
    "tags": []
   },
   "outputs": [
    {
     "data": {
      "image/png": "[encoded data removed]",
      "text/plain": [
       "<Figure size 1000x1000 with 1 Axes>"
      ]
     },
     "metadata": {},
     "output_type": "display_data"
    }
   ],
   "source": [
    "# grafico a torta per vedere la distribuzione delle categorie:\n",
    "playstore['Category'].value_counts().plot.pie(autopct='%1.1f%%', figsize=(10,10), labels=None)\n",
    "plt.ylabel('')\n",
    "plt.title('Distribuzione delle categorie')\n",
    "plt.subplots_adjust(right=0.7)  # spazio a destra per la legenda\n",
    "plt.legend(labels=playstore['Category'].value_counts().index, loc='upper right', bbox_to_anchor=(1.3, 1))\n",
    "plt.show()\n"
   ]
  },
  {
   "cell_type": "code",
   "execution_count": 19,
   "id": "6167362e",
   "metadata": {},
   "outputs": [
    {
     "data": {
      "image/png": "[encoded data removed]",
      "text/plain": [
       "<Figure size 1000x500 with 1 Axes>"
      ]
     },
     "metadata": {},
     "output_type": "display_data"
    }
   ],
   "source": [
    "#cerchiamo di capire quale è la categoria con il rapporto tra numero di recensioni e numero di installazioni più alto:\n",
    "playstore.groupby('Category')['nr/nd'].mean().sort_values(ascending=False).plot.bar(figsize=(10,5)) # ordiniamo le categorie in base al rapporto tra numero di recensioni e numero di installazioni, prendendo ogni categoria e calcolando la media di nr/nd\n",
    "plt.ylabel('nr/nd')\n",
    "plt.title('Rapporto tra numero di recensioni e numero di installazioni per categoria')\n",
    "plt.show()"
   ]
  },
  {
   "cell_type": "markdown",
   "id": "d8884c7d",
   "metadata": {},
   "source": [
    "## Risoluzione obiettivo 1:\n",
    "Abbiamo quindi scoperto che la categoria di applicazioni con un nr/nd più alto è la categoria GAME, differentemente da quanto ci aspettavamo (avendo inizialmente ipotizzato PRODUCTIVITY)"
   ]
  },
  {
   "cell_type": "markdown",
   "id": "768f94cf",
   "metadata": {},
   "source": [
    "## Olap"
   ]
  },
  {
   "cell_type": "code",
   "execution_count": 20,
   "id": "bb507fb2",
   "metadata": {},
   "outputs": [
    {
     "name": "stdout",
     "output_type": "stream",
     "text": [
      "Categorie:  ['ART_AND_DESIGN' 'AUTO_AND_VEHICLES' 'BEAUTY' 'BOOKS_AND_REFERENCE'\n",
      " 'BUSINESS' 'COMICS' 'COMMUNICATION' 'DATING' 'EDUCATION' 'ENTERTAINMENT'\n",
      " 'EVENTS' 'FAMILY' 'FINANCE' 'FOOD_AND_DRINK' 'GAME' 'HEALTH_AND_FITNESS'\n",
      " 'HOUSE_AND_HOME' 'LIBRARIES_AND_DEMO' 'LIFESTYLE' 'MAPS_AND_NAVIGATION'\n",
      " 'MEDICAL' 'NEWS_AND_MAGAZINES' 'PARENTING' 'PERSONALIZATION'\n",
      " 'PHOTOGRAPHY' 'PRODUCTIVITY' 'SHOPPING' 'SOCIAL' 'SPORTS' 'TOOLS'\n",
      " 'TRAVEL_AND_LOCAL' 'VIDEO_PLAYERS' 'WEATHER']\n",
      "Numero di categorie:  33\n",
      "<class 'pandas.core.frame.DataFrame'>\n",
      "Index: 6434 entries, 7165 to 3268\n",
      "Data columns (total 7 columns):\n",
      " #   Column    Non-Null Count  Dtype  \n",
      "---  ------    --------------  -----  \n",
      " 0   App       6434 non-null   object \n",
      " 1   Category  6434 non-null   object \n",
      " 2   Rating    6434 non-null   float64\n",
      " 3   Reviews   6434 non-null   int64  \n",
      " 4   Installs  6434 non-null   int64  \n",
      " 5   Type      6434 non-null   object \n",
      " 6   nr/nd     6434 non-null   float64\n",
      "dtypes: float64(2), int64(2), object(3)\n",
      "memory usage: 402.1+ KB\n"
     ]
    }
   ],
   "source": [
    "# Recuperiamo le diverse categorie per la rappresentazione OLAP\n",
    "quantize_category = np.unique(playstore['Category'])\n",
    "print(\"Categorie: \", quantize_category)\n",
    "print(\"Numero di categorie: \", len(quantize_category))\n",
    "quantize_rating = ['BAD', 'GOOD']\n",
    "quatize_nr_nd = ['LOW', 'MEDIUM', 'HIGH']\n",
    "\n",
    "\n",
    "playstore.info()\n",
    "\n"
   ]
  },
  {
   "cell_type": "code",
   "execution_count": 21,
   "id": "12a41570",
   "metadata": {},
   "outputs": [],
   "source": [
    "playstore.loc[playstore['nr/nd'].between(0, 15), 'nr/nd_quant'] = quatize_nr_nd[0]\n",
    "playstore.loc[playstore['nr/nd'].between(15, 35), 'nr/nd_quant'] = quatize_nr_nd[1]\n",
    "playstore.loc[playstore['nr/nd'].between(35, 100), 'nr/nd_quant'] = quatize_nr_nd[2]\n",
    "\n",
    "playstore.loc[playstore['Rating'] <= 3, 'Rating_quant'] = quantize_rating[0]\n",
    "playstore.loc[playstore['Rating'] > 3, 'Rating_quant'] = quantize_rating[1]\n"
   ]
  },
  {
   "cell_type": "code",
   "execution_count": 22,
   "id": "140da209",
   "metadata": {},
   "outputs": [
    {
     "data": {
      "text/html": [
       "<div>\n",
       "<style scoped>\n",
       "    .dataframe tbody tr th:only-of-type {\n",
       "        vertical-align: middle;\n",
       "    }\n",
       "\n",
       "    .dataframe tbody tr th {\n",
       "        vertical-align: top;\n",
       "    }\n",
       "\n",
       "    .dataframe thead th {\n",
       "        text-align: right;\n",
       "    }\n",
       "</style>\n",
       "<table border=\"1\" class=\"dataframe\">\n",
       "  <thead>\n",
       "    <tr style=\"text-align: right;\">\n",
       "      <th></th>\n",
       "      <th>App</th>\n",
       "      <th>Category</th>\n",
       "      <th>Rating</th>\n",
       "      <th>Reviews</th>\n",
       "      <th>Installs</th>\n",
       "      <th>Type</th>\n",
       "      <th>nr/nd</th>\n",
       "      <th>nr/nd_quant</th>\n",
       "      <th>Rating_quant</th>\n",
       "      <th>combined</th>\n",
       "    </tr>\n",
       "  </thead>\n",
       "  <tbody>\n",
       "    <tr>\n",
       "      <th>7165</th>\n",
       "      <td>My Movies Pro - Movie &amp; TV Collection Library</td>\n",
       "      <td>LIFESTYLE</td>\n",
       "      <td>4.6</td>\n",
       "      <td>6477</td>\n",
       "      <td>10000</td>\n",
       "      <td>Paid</td>\n",
       "      <td>64.770</td>\n",
       "      <td>HIGH</td>\n",
       "      <td>GOOD</td>\n",
       "      <td>LIFESTYLE / GOOD / HIGH</td>\n",
       "    </tr>\n",
       "    <tr>\n",
       "      <th>9304</th>\n",
       "      <td>Carrier Landings Pro</td>\n",
       "      <td>FAMILY</td>\n",
       "      <td>4.6</td>\n",
       "      <td>5969</td>\n",
       "      <td>10000</td>\n",
       "      <td>Paid</td>\n",
       "      <td>59.690</td>\n",
       "      <td>HIGH</td>\n",
       "      <td>GOOD</td>\n",
       "      <td>FAMILY / GOOD / HIGH</td>\n",
       "    </tr>\n",
       "    <tr>\n",
       "      <th>9627</th>\n",
       "      <td>ai.type keyboard Plus + Emoji</td>\n",
       "      <td>TOOLS</td>\n",
       "      <td>4.5</td>\n",
       "      <td>57076</td>\n",
       "      <td>100000</td>\n",
       "      <td>Paid</td>\n",
       "      <td>57.076</td>\n",
       "      <td>HIGH</td>\n",
       "      <td>GOOD</td>\n",
       "      <td>TOOLS / GOOD / HIGH</td>\n",
       "    </tr>\n",
       "    <tr>\n",
       "      <th>4946</th>\n",
       "      <td>Flud (Ad free)</td>\n",
       "      <td>VIDEO_PLAYERS</td>\n",
       "      <td>4.8</td>\n",
       "      <td>5639</td>\n",
       "      <td>10000</td>\n",
       "      <td>Paid</td>\n",
       "      <td>56.390</td>\n",
       "      <td>HIGH</td>\n",
       "      <td>GOOD</td>\n",
       "      <td>VIDEO_PLAYERS / GOOD / HIGH</td>\n",
       "    </tr>\n",
       "    <tr>\n",
       "      <th>4556</th>\n",
       "      <td>Day R Premium</td>\n",
       "      <td>FAMILY</td>\n",
       "      <td>4.8</td>\n",
       "      <td>51068</td>\n",
       "      <td>100000</td>\n",
       "      <td>Paid</td>\n",
       "      <td>51.068</td>\n",
       "      <td>HIGH</td>\n",
       "      <td>GOOD</td>\n",
       "      <td>FAMILY / GOOD / HIGH</td>\n",
       "    </tr>\n",
       "  </tbody>\n",
       "</table>\n",
       "</div>"
      ],
      "text/plain": [
       "                                                App       Category  Rating  \\\n",
       "7165  My Movies Pro - Movie & TV Collection Library      LIFESTYLE     4.6   \n",
       "9304                           Carrier Landings Pro         FAMILY     4.6   \n",
       "9627                  ai.type keyboard Plus + Emoji          TOOLS     4.5   \n",
       "4946                                 Flud (Ad free)  VIDEO_PLAYERS     4.8   \n",
       "4556                                  Day R Premium         FAMILY     4.8   \n",
       "\n",
       "      Reviews  Installs  Type   nr/nd nr/nd_quant Rating_quant  \\\n",
       "7165     6477     10000  Paid  64.770        HIGH         GOOD   \n",
       "9304     5969     10000  Paid  59.690        HIGH         GOOD   \n",
       "9627    57076    100000  Paid  57.076        HIGH         GOOD   \n",
       "4946     5639     10000  Paid  56.390        HIGH         GOOD   \n",
       "4556    51068    100000  Paid  51.068        HIGH         GOOD   \n",
       "\n",
       "                         combined  \n",
       "7165      LIFESTYLE / GOOD / HIGH  \n",
       "9304         FAMILY / GOOD / HIGH  \n",
       "9627          TOOLS / GOOD / HIGH  \n",
       "4946  VIDEO_PLAYERS / GOOD / HIGH  \n",
       "4556         FAMILY / GOOD / HIGH  "
      ]
     },
     "execution_count": 22,
     "metadata": {},
     "output_type": "execute_result"
    }
   ],
   "source": [
    "results = pd.DataFrame(columns=['Category', 'Rating', 'nr/nd', 'Count'])\n",
    "playstore['combined'] = playstore['Category'] + \" / \" + playstore['Rating_quant'] + \" / \" + playstore['nr/nd_quant']\n",
    "playstore.head()\n"
   ]
  },
  {
   "cell_type": "code",
   "execution_count": 23,
   "id": "7b7cbb74",
   "metadata": {},
   "outputs": [
    {
     "data": {
      "text/html": [
       "<div>\n",
       "<style scoped>\n",
       "    .dataframe tbody tr th:only-of-type {\n",
       "        vertical-align: middle;\n",
       "    }\n",
       "\n",
       "    .dataframe tbody tr th {\n",
       "        vertical-align: top;\n",
       "    }\n",
       "\n",
       "    .dataframe thead th {\n",
       "        text-align: right;\n",
       "    }\n",
       "</style>\n",
       "<table border=\"1\" class=\"dataframe\">\n",
       "  <thead>\n",
       "    <tr style=\"text-align: right;\">\n",
       "      <th></th>\n",
       "      <th>Category</th>\n",
       "      <th>Rating</th>\n",
       "      <th>nr/nd</th>\n",
       "      <th>Count</th>\n",
       "    </tr>\n",
       "  </thead>\n",
       "  <tbody>\n",
       "    <tr>\n",
       "      <th>0</th>\n",
       "      <td>ART_AND_DESIGN</td>\n",
       "      <td>BAD</td>\n",
       "      <td>LOW</td>\n",
       "      <td>0</td>\n",
       "    </tr>\n",
       "    <tr>\n",
       "      <th>1</th>\n",
       "      <td>ART_AND_DESIGN</td>\n",
       "      <td>BAD</td>\n",
       "      <td>MEDIUM</td>\n",
       "      <td>0</td>\n",
       "    </tr>\n",
       "    <tr>\n",
       "      <th>2</th>\n",
       "      <td>ART_AND_DESIGN</td>\n",
       "      <td>BAD</td>\n",
       "      <td>HIGH</td>\n",
       "      <td>0</td>\n",
       "    </tr>\n",
       "    <tr>\n",
       "      <th>3</th>\n",
       "      <td>ART_AND_DESIGN</td>\n",
       "      <td>GOOD</td>\n",
       "      <td>LOW</td>\n",
       "      <td>53</td>\n",
       "    </tr>\n",
       "    <tr>\n",
       "      <th>4</th>\n",
       "      <td>ART_AND_DESIGN</td>\n",
       "      <td>GOOD</td>\n",
       "      <td>MEDIUM</td>\n",
       "      <td>0</td>\n",
       "    </tr>\n",
       "    <tr>\n",
       "      <th>...</th>\n",
       "      <td>...</td>\n",
       "      <td>...</td>\n",
       "      <td>...</td>\n",
       "      <td>...</td>\n",
       "    </tr>\n",
       "    <tr>\n",
       "      <th>193</th>\n",
       "      <td>WEATHER</td>\n",
       "      <td>BAD</td>\n",
       "      <td>MEDIUM</td>\n",
       "      <td>0</td>\n",
       "    </tr>\n",
       "    <tr>\n",
       "      <th>194</th>\n",
       "      <td>WEATHER</td>\n",
       "      <td>BAD</td>\n",
       "      <td>HIGH</td>\n",
       "      <td>0</td>\n",
       "    </tr>\n",
       "    <tr>\n",
       "      <th>195</th>\n",
       "      <td>WEATHER</td>\n",
       "      <td>GOOD</td>\n",
       "      <td>LOW</td>\n",
       "      <td>64</td>\n",
       "    </tr>\n",
       "    <tr>\n",
       "      <th>196</th>\n",
       "      <td>WEATHER</td>\n",
       "      <td>GOOD</td>\n",
       "      <td>MEDIUM</td>\n",
       "      <td>5</td>\n",
       "    </tr>\n",
       "    <tr>\n",
       "      <th>197</th>\n",
       "      <td>WEATHER</td>\n",
       "      <td>GOOD</td>\n",
       "      <td>HIGH</td>\n",
       "      <td>0</td>\n",
       "    </tr>\n",
       "  </tbody>\n",
       "</table>\n",
       "<p>198 rows × 4 columns</p>\n",
       "</div>"
      ],
      "text/plain": [
       "           Category Rating   nr/nd  Count\n",
       "0    ART_AND_DESIGN    BAD     LOW      0\n",
       "1    ART_AND_DESIGN    BAD  MEDIUM      0\n",
       "2    ART_AND_DESIGN    BAD    HIGH      0\n",
       "3    ART_AND_DESIGN   GOOD     LOW     53\n",
       "4    ART_AND_DESIGN   GOOD  MEDIUM      0\n",
       "..              ...    ...     ...    ...\n",
       "193         WEATHER    BAD  MEDIUM      0\n",
       "194         WEATHER    BAD    HIGH      0\n",
       "195         WEATHER   GOOD     LOW     64\n",
       "196         WEATHER   GOOD  MEDIUM      5\n",
       "197         WEATHER   GOOD    HIGH      0\n",
       "\n",
       "[198 rows x 4 columns]"
      ]
     },
     "execution_count": 23,
     "metadata": {},
     "output_type": "execute_result"
    }
   ],
   "source": [
    "counts = playstore['combined'].value_counts()\n",
    "\n",
    "for z in range(0,len(quantize_category)):\n",
    "    for j in range(0,len(quantize_rating)):\n",
    "        for i in range(0,len(quatize_nr_nd)):\n",
    "            key = f\"{quantize_category[z]} / {quantize_rating[j]} / {quatize_nr_nd[i]}\"\n",
    "            #print(\"Key: \", key) # per vedere come si chiama la chiave (debug)\n",
    "            count = counts.get(key, 0)\n",
    "#Aggiungiamo i risultati al dataframe\n",
    "            results.loc[len(results)] = [quantize_category[z], quantize_rating[j], quatize_nr_nd[i], count]\n",
    "results.head(1000)\n"
   ]
  },
  {
   "cell_type": "code",
   "execution_count": 24,
   "id": "fff24217",
   "metadata": {},
   "outputs": [
    {
     "name": "stdout",
     "output_type": "stream",
     "text": [
      "Massimo:  1131\n"
     ]
    },
    {
     "data": {
      "text/html": [
       "<div>\n",
       "<style scoped>\n",
       "    .dataframe tbody tr th:only-of-type {\n",
       "        vertical-align: middle;\n",
       "    }\n",
       "\n",
       "    .dataframe tbody tr th {\n",
       "        vertical-align: top;\n",
       "    }\n",
       "\n",
       "    .dataframe thead th {\n",
       "        text-align: right;\n",
       "    }\n",
       "</style>\n",
       "<table border=\"1\" class=\"dataframe\">\n",
       "  <thead>\n",
       "    <tr style=\"text-align: right;\">\n",
       "      <th></th>\n",
       "      <th>Category</th>\n",
       "      <th>Rating</th>\n",
       "      <th>nr/nd</th>\n",
       "      <th>Count</th>\n",
       "    </tr>\n",
       "  </thead>\n",
       "  <tbody>\n",
       "    <tr>\n",
       "      <th>69</th>\n",
       "      <td>FAMILY</td>\n",
       "      <td>GOOD</td>\n",
       "      <td>LOW</td>\n",
       "      <td>1131</td>\n",
       "    </tr>\n",
       "    <tr>\n",
       "      <th>87</th>\n",
       "      <td>GAME</td>\n",
       "      <td>GOOD</td>\n",
       "      <td>LOW</td>\n",
       "      <td>785</td>\n",
       "    </tr>\n",
       "    <tr>\n",
       "      <th>177</th>\n",
       "      <td>TOOLS</td>\n",
       "      <td>GOOD</td>\n",
       "      <td>LOW</td>\n",
       "      <td>515</td>\n",
       "    </tr>\n",
       "    <tr>\n",
       "      <th>147</th>\n",
       "      <td>PHOTOGRAPHY</td>\n",
       "      <td>GOOD</td>\n",
       "      <td>LOW</td>\n",
       "      <td>221</td>\n",
       "    </tr>\n",
       "    <tr>\n",
       "      <th>153</th>\n",
       "      <td>PRODUCTIVITY</td>\n",
       "      <td>GOOD</td>\n",
       "      <td>LOW</td>\n",
       "      <td>221</td>\n",
       "    </tr>\n",
       "    <tr>\n",
       "      <th>75</th>\n",
       "      <td>FINANCE</td>\n",
       "      <td>GOOD</td>\n",
       "      <td>LOW</td>\n",
       "      <td>215</td>\n",
       "    </tr>\n",
       "    <tr>\n",
       "      <th>171</th>\n",
       "      <td>SPORTS</td>\n",
       "      <td>GOOD</td>\n",
       "      <td>LOW</td>\n",
       "      <td>210</td>\n",
       "    </tr>\n",
       "    <tr>\n",
       "      <th>141</th>\n",
       "      <td>PERSONALIZATION</td>\n",
       "      <td>GOOD</td>\n",
       "      <td>LOW</td>\n",
       "      <td>207</td>\n",
       "    </tr>\n",
       "    <tr>\n",
       "      <th>39</th>\n",
       "      <td>COMMUNICATION</td>\n",
       "      <td>GOOD</td>\n",
       "      <td>LOW</td>\n",
       "      <td>193</td>\n",
       "    </tr>\n",
       "    <tr>\n",
       "      <th>93</th>\n",
       "      <td>HEALTH_AND_FITNESS</td>\n",
       "      <td>GOOD</td>\n",
       "      <td>LOW</td>\n",
       "      <td>187</td>\n",
       "    </tr>\n",
       "  </tbody>\n",
       "</table>\n",
       "</div>"
      ],
      "text/plain": [
       "               Category Rating nr/nd  Count\n",
       "69               FAMILY   GOOD   LOW   1131\n",
       "87                 GAME   GOOD   LOW    785\n",
       "177               TOOLS   GOOD   LOW    515\n",
       "147         PHOTOGRAPHY   GOOD   LOW    221\n",
       "153        PRODUCTIVITY   GOOD   LOW    221\n",
       "75              FINANCE   GOOD   LOW    215\n",
       "171              SPORTS   GOOD   LOW    210\n",
       "141     PERSONALIZATION   GOOD   LOW    207\n",
       "39        COMMUNICATION   GOOD   LOW    193\n",
       "93   HEALTH_AND_FITNESS   GOOD   LOW    187"
      ]
     },
     "execution_count": 24,
     "metadata": {},
     "output_type": "execute_result"
    }
   ],
   "source": [
    "# printiamo il valore massimo di count\n",
    "print(\"Massimo: \", results['Count'].max())\n",
    "# ordiniamo il dataframe results in base alla colonna count\n",
    "results = results.sort_values(by='Count', ascending=False)\n",
    "results.head(10)"
   ]
  },
  {
   "cell_type": "markdown",
   "id": "047ce5ef",
   "metadata": {},
   "source": [
    "## Interpretazione della visualizzazione qua sopra\n",
    "La tabella results di cui abbiamo visualizzato alcune righe ci comunica le seguenti informazioni riguardo al nostro dataset, rispondendo a questa domanda:\n",
    "Quante sono le applicazioni della categoria X che abbiano un rating buono (o cattivo) ed un nr/nd basso (o medio, o alto)? La risposta a questa domanda viene fornita dalla colonna Count, che conta per l'appunto il numero di occorrenze di tali applicazioni.\n",
    "*esempio*\n",
    "ci sono 1131 applicazioni della categoria FAMILY che hanno un rating GOOD ed un nr/nd LOW."
   ]
  },
  {
   "cell_type": "markdown",
   "id": "244a83d7",
   "metadata": {},
   "source": [
    "## Prima visualizzazione OLAP proposta\n",
    "Siccome abbiamo notato che la categoria FAMILY è quella che si \"prende la fetta più grande\" tra le categorie di applicazioni dello store, e che GAME sia quella mediamente con il rapporto nr/nd più alto, pensiamo sia interessante fare una visualizzazione OLAP per quanto riguarda queste categorie.\n",
    "**slicing**\n",
    "Facciamo innanzitutto uno slicing sulla category"
   ]
  },
  {
   "cell_type": "code",
   "execution_count": 25,
   "id": "76fbfbfe",
   "metadata": {},
   "outputs": [
    {
     "name": "stdout",
     "output_type": "stream",
     "text": [
      "FAMILY\n",
      "   Category Rating   nr/nd  Count\n",
      "69   FAMILY   GOOD     LOW   1131\n",
      "70   FAMILY   GOOD  MEDIUM     35\n",
      "66   FAMILY    BAD     LOW     30\n",
      "71   FAMILY   GOOD    HIGH      5\n",
      "67   FAMILY    BAD  MEDIUM      0\n",
      "68   FAMILY    BAD    HIGH      0\n"
     ]
    }
   ],
   "source": [
    "print('FAMILY')\n",
    "family_results = results.loc[results['Category'] == 'FAMILY']\n",
    "# stampiamo i risultati per la categoria FAMILY\n",
    "print(family_results)"
   ]
  },
  {
   "cell_type": "markdown",
   "id": "4e56ab69",
   "metadata": {},
   "source": [
    "**visualizziamo adesso questa matrice, con una heatmap**"
   ]
  },
  {
   "cell_type": "code",
   "execution_count": 26,
   "id": "4b38dda0",
   "metadata": {},
   "outputs": [
    {
     "data": {
      "image/png": "[encoded data removed]",
      "text/plain": [
       "<Figure size 640x480 with 2 Axes>"
      ]
     },
     "metadata": {},
     "output_type": "display_data"
    }
   ],
   "source": [
    "# Trasformiamo i dati in una matrice utilizzando il metodo pivot\n",
    "matrix = family_results.pivot(index='Rating', columns='nr/nd', values='Count')\n",
    "# Creiamo la heatmap utilizzando imshow\n",
    "plt.imshow(matrix, cmap='YlGnBu', interpolation='nearest', norm=mcolors.LogNorm(vmin=1, vmax=1200))\n",
    "\n",
    "# Aggiungiamo una colorbar per indicare il valore dei colori\n",
    "cbar = plt.colorbar(label='Count')\n",
    "\n",
    "# Impostiamo le etichette degli assi\n",
    "plt.xticks(np.arange(len(matrix.columns)), matrix.columns)\n",
    "plt.yticks(np.arange(len(matrix.index)), matrix.index)\n",
    "\n",
    "# Modifichiamo le etichette della colorbar, ci sembra più chiaro avere 1, 10, 100, 1000 espressi così, piuttosto che come potenze di 10 (di default)\n",
    "ticks = [1, 10, 100, 1000]\n",
    "cbar.set_ticks(ticks)\n",
    "cbar.set_ticklabels(ticks)\n",
    "# Mostriamo il grafico\n",
    "plt.show()"
   ]
  },
  {
   "cell_type": "markdown",
   "id": "723a7ad2",
   "metadata": {},
   "source": [
    "Con questo slicing notiamo che la maggior parte delle app per famiglie hanno un nr/nd basso e che la maggior parte di esse hanno un rating buono.\n",
    "In particolare, abbiamo visto precedentemente che le app di categoria family sono le più numerose, con una percentuale del 18.7 %. Le app di questa categoria sono 1201 e con questa visualizzazione OLAP vediamo come addirittura più di 1000 siano quelle con nr/nd basso e valutazione buona, quindi stiamo parlando dell'83% delle applicazioni family."
   ]
  },
  {
   "cell_type": "markdown",
   "id": "66b46607",
   "metadata": {},
   "source": [
    "**slicicng rispetto a category visualizzando i giochi**"
   ]
  },
  {
   "cell_type": "code",
   "execution_count": 27,
   "id": "480a56a7",
   "metadata": {},
   "outputs": [
    {
     "name": "stdout",
     "output_type": "stream",
     "text": [
      "GAME\n",
      "   Category Rating   nr/nd  Count\n",
      "87     GAME   GOOD     LOW    785\n",
      "88     GAME   GOOD  MEDIUM     33\n",
      "89     GAME   GOOD    HIGH      5\n",
      "84     GAME    BAD     LOW      5\n",
      "85     GAME    BAD  MEDIUM      0\n",
      "86     GAME    BAD    HIGH      0\n"
     ]
    }
   ],
   "source": [
    "print('GAME')\n",
    "game_results = results.loc[results['Category'] == 'GAME']\n",
    "# stampiamo i risultati per la categoria GAME\n",
    "print(game_results)"
   ]
  },
  {
   "cell_type": "code",
   "execution_count": 28,
   "id": "9213e06d",
   "metadata": {},
   "outputs": [
    {
     "data": {
      "image/png": "[encoded data removed]",
      "text/plain": [
       "<Figure size 640x480 with 2 Axes>"
      ]
     },
     "metadata": {},
     "output_type": "display_data"
    }
   ],
   "source": [
    "# Trasformiamo i dati in una matrice utilizzando il metodo pivot\n",
    "matrix = game_results.pivot(index='Rating', columns='nr/nd', values='Count')\n",
    "# Creiamo la heatmap utilizzando imshow\n",
    "plt.imshow(matrix, cmap='YlGnBu', interpolation='nearest', norm=mcolors.LogNorm(vmin=1, vmax=1200))\n",
    "\n",
    "# Aggiungiamo una colorbar per indicare il valore dei colori\n",
    "cbar = plt.colorbar(label='Count')\n",
    "\n",
    "# Impostiamo le etichette degli assi\n",
    "plt.xticks(np.arange(len(matrix.columns)), matrix.columns)\n",
    "plt.yticks(np.arange(len(matrix.index)), matrix.index)\n",
    "\n",
    "# Modifichiamo le etichette della colorbar, ci sembra più chiaro avere 1, 10, 100, 1000 espressi così, piuttosto che come potenze di 10 (di default)\n",
    "ticks = [1, 10, 100, 1000]\n",
    "cbar.set_ticks(ticks)\n",
    "cbar.set_ticklabels(ticks)\n",
    "# Mostriamo il grafico\n",
    "plt.show()"
   ]
  },
  {
   "cell_type": "code",
   "execution_count": 33,
   "id": "ef15cb55-9838-4fff-a228-da69378617b1",
   "metadata": {},
   "outputs": [
    {
     "ename": "RuntimeError",
     "evalue": "No mappable was found to use for colorbar creation. First define a mappable such as an image (with imshow) or a contour set (with contourf).",
     "output_type": "error",
     "traceback": [
      "\u001b[0;31m---------------------------------------------------------------------------\u001b[0m",
      "\u001b[0;31mRuntimeError\u001b[0m                              Traceback (most recent call last)",
      "Cell \u001b[0;32mIn[33], line 24\u001b[0m\n\u001b[1;32m     21\u001b[0m ax\u001b[38;5;241m.\u001b[39mbar3d(x_data, y_data, z_data, dx, dy, dz, color\u001b[38;5;241m=\u001b[39mplt\u001b[38;5;241m.\u001b[39mcm\u001b[38;5;241m.\u001b[39mviridis(colors \u001b[38;5;241m/\u001b[39m \u001b[38;5;28mfloat\u001b[39m(\u001b[38;5;28mmax\u001b[39m(colors))))\n\u001b[1;32m     23\u001b[0m \u001b[38;5;66;03m# Aggiungiamo una colorbar per indicare il valore dei colori\u001b[39;00m\n\u001b[0;32m---> 24\u001b[0m cbar \u001b[38;5;241m=\u001b[39m \u001b[43mplt\u001b[49m\u001b[38;5;241;43m.\u001b[39;49m\u001b[43mcolorbar\u001b[49m\u001b[43m(\u001b[49m\u001b[43mlabel\u001b[49m\u001b[38;5;241;43m=\u001b[39;49m\u001b[38;5;124;43m'\u001b[39;49m\u001b[38;5;124;43mCount\u001b[39;49m\u001b[38;5;124;43m'\u001b[39;49m\u001b[43m)\u001b[49m\n\u001b[1;32m     26\u001b[0m \u001b[38;5;66;03m# Impostiamo le etichette degli assi\u001b[39;00m\n\u001b[1;32m     27\u001b[0m ax\u001b[38;5;241m.\u001b[39mset_xticks(np\u001b[38;5;241m.\u001b[39marange(\u001b[38;5;28mlen\u001b[39m(matrix\u001b[38;5;241m.\u001b[39mcolumns)) \u001b[38;5;241m+\u001b[39m \u001b[38;5;241m0.25\u001b[39m)\n",
      "File \u001b[0;32m/srv/conda/envs/notebook/lib/python3.10/site-packages/matplotlib/pyplot.py:2337\u001b[0m, in \u001b[0;36mcolorbar\u001b[0;34m(mappable, cax, ax, **kwargs)\u001b[0m\n\u001b[1;32m   2335\u001b[0m     mappable \u001b[38;5;241m=\u001b[39m gci()\n\u001b[1;32m   2336\u001b[0m     \u001b[38;5;28;01mif\u001b[39;00m mappable \u001b[38;5;129;01mis\u001b[39;00m \u001b[38;5;28;01mNone\u001b[39;00m:\n\u001b[0;32m-> 2337\u001b[0m         \u001b[38;5;28;01mraise\u001b[39;00m \u001b[38;5;167;01mRuntimeError\u001b[39;00m(\u001b[38;5;124m'\u001b[39m\u001b[38;5;124mNo mappable was found to use for colorbar \u001b[39m\u001b[38;5;124m'\u001b[39m\n\u001b[1;32m   2338\u001b[0m                            \u001b[38;5;124m'\u001b[39m\u001b[38;5;124mcreation. First define a mappable such as \u001b[39m\u001b[38;5;124m'\u001b[39m\n\u001b[1;32m   2339\u001b[0m                            \u001b[38;5;124m'\u001b[39m\u001b[38;5;124man image (with imshow) or a contour set (\u001b[39m\u001b[38;5;124m'\u001b[39m\n\u001b[1;32m   2340\u001b[0m                            \u001b[38;5;124m'\u001b[39m\u001b[38;5;124mwith contourf).\u001b[39m\u001b[38;5;124m'\u001b[39m)\n\u001b[1;32m   2341\u001b[0m ret \u001b[38;5;241m=\u001b[39m gcf()\u001b[38;5;241m.\u001b[39mcolorbar(mappable, cax\u001b[38;5;241m=\u001b[39mcax, ax\u001b[38;5;241m=\u001b[39max, \u001b[38;5;241m*\u001b[39m\u001b[38;5;241m*\u001b[39mkwargs)\n\u001b[1;32m   2342\u001b[0m \u001b[38;5;28;01mreturn\u001b[39;00m ret\n",
      "\u001b[0;31mRuntimeError\u001b[0m: No mappable was found to use for colorbar creation. First define a mappable such as an image (with imshow) or a contour set (with contourf)."
     ]
    },
    {
     "data": {
      "image/png": "[encoded data removed]",
      "text/plain": [
       "<Figure size 640x480 with 1 Axes>"
      ]
     },
     "metadata": {},
     "output_type": "display_data"
    }
   ],
   "source": [
    "import numpy as np\n",
    "import matplotlib.pyplot as plt\n",
    "from mpl_toolkits.mplot3d import Axes3D\n",
    "\n",
    "# Trasformiamo i dati in una matrice utilizzando il metodo pivot\n",
    "matrix = game_results.pivot(index='Rating', columns='nr/nd', values='Count')\n",
    "\n",
    "fig = plt.figure()\n",
    "ax = fig.add_subplot(111, projection='3d')\n",
    "\n",
    "x_data, y_data = np.meshgrid(np.arange(len(matrix.columns)), np.arange(len(matrix.index)))\n",
    "x_data = x_data.flatten()\n",
    "y_data = y_data.flatten()\n",
    "z_data = np.zeros_like(x_data)\n",
    "\n",
    "colors = matrix.values.flatten()\n",
    "\n",
    "dx = dy = 0.5\n",
    "dz = matrix.values.flatten()\n",
    "\n",
    "ax.bar3d(x_data, y_data, z_data, dx, dy, dz, color=plt.cm.viridis(colors / float(max(colors))))\n",
    "\n",
    "# Aggiungiamo una colorbar per indicare il valore dei colori\n",
    "cbar = plt.colorbar(label='Count')\n",
    "\n",
    "# Impostiamo le etichette degli assi\n",
    "ax.set_xticks(np.arange(len(matrix.columns)) + 0.25)\n",
    "ax.set_xticklabels(matrix.columns)\n",
    "ax.set_yticks(np.arange(len(matrix.index)) + 0.25)\n",
    "ax.set_yticklabels(matrix.index)\n",
    "\n",
    "# Modifichiamo le etichette della colorbar, ci sembra più chiaro avere 1, 10, 100, 1000 espressi così, piuttosto che come potenze di 10 (di default)\n",
    "ticks = [1, 10, 100, 1000]\n",
    "cbar.set_ticks(ticks)\n",
    "cbar.set_ticklabels(ticks)\n",
    "\n",
    "plt.show()\n"
   ]
  },
  {
   "cell_type": "markdown",
   "id": "5ad6c568",
   "metadata": {},
   "source": [
    "Forse stiamo iniziando a notare un trend? Sia in questo slicing su GAME, che in quello su FAMILY, c'è una totale assenza di occorrenze delle combinazioni: (nr/nd medio, rating cattivo) ed (nr/nd alto, rating cattivo)"
   ]
  },
  {
   "cell_type": "markdown",
   "id": "a7415047",
   "metadata": {},
   "source": [
    "## Test Statistico\n",
    "Dopo aver condotto l'analisi, abbiamo identificato la categoria \"game\" come quella con il valore più elevato di nr/nd.\n",
    "Presumiamo che la maggior parte delle applicazioni in questa categoria siano a pagamento. Questa supposizione si basa sul ragionamento che gli utenti che pagano per un'applicazione sono probabilmente più inclini a lasciare recensioni dettagliate, sia positive che negative. Questo perché l'atto di acquisto potrebbe indicare un maggiore coinvolgimento o aspettative più elevate da parte dell'utente rispetto alle app gratuite."
   ]
  },
  {
   "cell_type": "code",
   "execution_count": null,
   "id": "ef2e77de",
   "metadata": {},
   "outputs": [],
   "source": [
    "#Creiamo un dataframe per la categoria game:\n",
    "game = playstore[playstore['Category'] == 'GAME']\n",
    "#Contiamo quante app sono a pagamento e quante sono gratuite:\n",
    "game['Type'].value_counts()\n",
    "#Ora vediamo tra quelle gratis e a pagamento chi ha la media nr/nd più alta:\n",
    "print(game.groupby('Type')['nr/nd'].mean())\n",
    "#Testiamo se le due distribuzioni sono significativamente diverse:\n",
    "stats.ttest_ind(game[game['Type'] == 'Free']['nr/nd'], game[game['Type'] == 'Paid']['nr/nd'])\n",
    "#Il p-value è molto basso, quindi possiamo concludere che le due distribuzioni sono significativamente diverse.\n",
    "#Infine, visualizziamo un boxplot per confrontare le due distribuzioni:\n",
    "game.boxplot(column='nr/nd', by='Type', figsize=(10,10))\n",
    "plt.ylabel('nr/nd')\n",
    "plt.title('')\n",
    "plt.suptitle('')\n",
    "plt.show()\n",
    "\n",
    "free_reviews = game[game['Type'] == 'Free']['Reviews']\n",
    "paid_reviews = game[game['Type'] == 'Paid']['Reviews']\n",
    "\n",
    "# Testiamo se le due distribuzioni delle recensioni sono significativamente diverse\n",
    "t_stat_reviews, p_value_reviews = stats.ttest_ind(free_reviews, paid_reviews)\n",
    "print(\"T-Statistic (Reviews):\", t_stat_reviews)\n",
    "print(\"P-Value (Reviews):\", p_value_reviews)\n",
    "\n",
    "# Verifichiamo se esiste una differenza significativa nel numero di recensioni tra applicazioni gratuite e a pagamento\n",
    "if p_value_reviews < 0.05:\n",
    "    print(\"La differenza nel numero di recensioni tra applicazioni gratuite e a pagamento è statisticamente significativa.\")\n",
    "else:\n",
    "    print(\"Non ci sono evidenze sufficienti per affermare che la differenza nel numero di recensioni tra applicazioni gratuite e a pagamento sia statisticamente significativa.\")"
   ]
  },
  {
   "cell_type": "markdown",
   "id": "591c70f4",
   "metadata": {},
   "source": [
    "## Metodo predittivo\n",
    "utilizziamo una rappresentazione grafica per verificare se le due features (nr/nd e rating) siano correlate, e se sia quindi possibile utilizzare una di queste features per predire l'altra."
   ]
  },
  {
   "cell_type": "code",
   "execution_count": null,
   "id": "fb69553e",
   "metadata": {},
   "outputs": [],
   "source": [
    "plt.scatter(playstore['nr/nd'], playstore['Rating'])\n",
    "plt.title('scores')\n",
    "plt.xlabel('nr/nd')\n",
    "plt.ylabel('Rating')"
   ]
  },
  {
   "cell_type": "markdown",
   "id": "d7d22f77",
   "metadata": {},
   "source": [
    "verifichiamo la correlazione utilizzando il coefficiente di correlazione di Pearson (r)."
   ]
  },
  {
   "cell_type": "code",
   "execution_count": null,
   "id": "419801c2",
   "metadata": {},
   "outputs": [],
   "source": [
    "correlation, p_value = stats.pearsonr(playstore['nr/nd'],playstore['Rating'])\n",
    "print(\"Coefficiente di Pearson: \", correlation)\n"
   ]
  },
  {
   "cell_type": "code",
   "execution_count": null,
   "id": "ef38deba",
   "metadata": {},
   "outputs": [],
   "source": [
    "# Calcoliamo una rappresentazione a griglia della densità dei punti\n",
    "x = playstore['nr/nd']\n",
    "y = playstore['Rating']\n",
    "heatmap, xedges, yedges = np.histogram2d(x, y, bins=50)\n",
    "extent = [xedges[0], xedges[-1], yedges[0], yedges[-1]]\n",
    "\n",
    "# Plottiamo il grafico a dispersione in falsi colori\n",
    "plt.imshow(heatmap.T, extent=extent, origin='lower', cmap='viridis')\n",
    "plt.colorbar(label='Density')\n",
    "plt.title('Density Plot of Scores')\n",
    "plt.xlabel('nr/nd')\n",
    "plt.ylabel('Rating')\n",
    "plt.show()"
   ]
  },
  {
   "cell_type": "code",
   "execution_count": null,
   "id": "c1a6ef02",
   "metadata": {},
   "outputs": [],
   "source": [
    "#Plottiamo in falsi color con un hexbin plot:\n",
    "plt.hexbin(playstore['nr/nd'], playstore['Rating'], gridsize=50, cmap='YlGnBu')\n",
    "plt.xlabel('nr/nd')\n",
    "plt.ylabel('Rating')\n",
    "plt.title('Rating vs nr/nd')\n",
    "plt.colorbar(label='count')\n",
    "plt.show()"
   ]
  },
  {
   "cell_type": "code",
   "execution_count": null,
   "id": "61b24be1",
   "metadata": {},
   "outputs": [],
   "source": [
    "from sklearn.model_selection import train_test_split\n",
    "#codice qui \n",
    "# Definiamo le caratteristiche da usare\n",
    "X = playstore[['nr/nd']] #nr/nd sarà il nostro predittore\n",
    "y = playstore['Rating'] #Rating sarà la variabile da predire (target)\n",
    "\n",
    "# Dividiamo il dataset in training set e validation set usando la proporzione 70/30\n",
    "X_train, X_valid, y_train, y_valid = train_test_split(X, y, test_size=0.3, random_state=42)"
   ]
  },
  {
   "cell_type": "code",
   "execution_count": null,
   "id": "64ec877d",
   "metadata": {},
   "outputs": [],
   "source": [
    "from sklearn.linear_model import LinearRegression\n",
    "# Istanziamo l'oggetto della classe LinearRegression\n",
    "regressor = LinearRegression()\n",
    "\n",
    "# Alleniamo il modello passando il training set\n",
    "regressor.fit(X_train, y_train)\n",
    "\n",
    "# Visualizziamo i coefficienti imparati\n",
    "print(\"Intercept:\", regressor.intercept_)\n",
    "#usiamo l'indexing e prendiamo il primo (e unico) coefficiente, ma se avessimo più variabili predittive (altre oltre imdb_score)\n",
    "#potremmo accedere ai coefficienti relativi a tutte in questo array\n",
    "print(\"Coefficiente nr/nd\", regressor.coef_[0]) \n"
   ]
  },
  {
   "cell_type": "code",
   "execution_count": null,
   "id": "7b1d776a",
   "metadata": {},
   "outputs": [],
   "source": [
    "y_hat =regressor.predict(X_valid)\n",
    "\n",
    "plt.scatter(X_valid,y_hat)\n",
    "plt.scatter(X_valid,y_valid,c='r',alpha=0.2)"
   ]
  },
  {
   "cell_type": "markdown",
   "id": "71e2d07b",
   "metadata": {},
   "source": [
    "## Usiamo le tre stime per capire quanto precisa è la funzione imparata\n"
   ]
  },
  {
   "cell_type": "code",
   "execution_count": null,
   "id": "88c35222",
   "metadata": {},
   "outputs": [],
   "source": [
    "import sklearn.metrics as metrics \n",
    "y_pred = regressor.predict(X_valid)\n",
    "print ('MAE:', metrics.mean_absolute_error(y_valid, y_pred))\n",
    "print ('MSE:', metrics.mean_squared_error(y_valid, y_pred))\n",
    "print ('RMSE:', np.sqrt(metrics.mean_squared_error(y_valid, y_pred)))"
   ]
  },
  {
   "cell_type": "markdown",
   "id": "7e068076",
   "metadata": {},
   "source": [
    "## Determiniamo il modello nullo e confrontiamo le metriche appena ottenute"
   ]
  },
  {
   "cell_type": "code",
   "execution_count": null,
   "id": "99086b94",
   "metadata": {},
   "outputs": [],
   "source": [
    "def MSE (y_pred,y_true):\n",
    "    #errore quadratico medio\n",
    "    mse = np.mean((y_pred - y_true) ** 2)\n",
    "    return mse \n",
    "\n",
    "def MAE (y_pred,y_true):\n",
    "    #scarto medio assoluto\n",
    "    mae = np.mean(np.abs(y_pred - y_true))\n",
    "    return mae\n",
    "\n",
    "\n",
    "def RMSE (y_pred,y_true):\n",
    "    #radice quadrata dell'errore quadratico medio\n",
    "    rmse = np.sqrt(np.mean((y_pred - y_true) ** 2))\n",
    "    return rmse\n",
    "\n",
    "\n",
    "# calcoliamo il nr/nd medio\n",
    "mean_nr_nd = playstore['nr/nd'].mean()\n",
    "# creiamo la nuova x con lo stesso numero di campioni del validation set originale, e con tutti i valori uguali a mean_nr_nd appena calcolato\n",
    "null_model = [mean_nr_nd] * y_valid.shape[0]\n",
    "\n",
    "null_mae = MAE(null_model, y_valid)\n",
    "null_mse = MSE(null_model, y_valid)\n",
    "null_rmse = RMSE(null_model, y_valid)\n",
    "\n",
    "#stampate gli errori\n",
    "print(\"Scarto medio assoluto (MAE):\", null_mae)\n",
    "print(\"Errore quadratico medio (MSE):\", null_mse)\n",
    "print(\"Radice dell'errore quadratico medio (RMSE):\", null_rmse)"
   ]
  },
  {
   "cell_type": "markdown",
   "id": "a82f3ca4",
   "metadata": {},
   "source": [
    "## Clustering"
   ]
  },
  {
   "cell_type": "code",
   "execution_count": null,
   "id": "0b2c7857",
   "metadata": {
    "tags": []
   },
   "outputs": [],
   "source": [
    "#Facciamo un esempio di clustering con i dati a disposizione:\n",
    "from sklearn.cluster import KMeans\n",
    "from sklearn.preprocessing import StandardScaler\n",
    "\n",
    "#Selezioniamo solo le colonne che ci interessano:\n",
    "X = playstore[['Rating', 'nr/nd']]\n",
    "scaler = StandardScaler()\n",
    "X_scaled = scaler.fit_transform(X)\n",
    "\n",
    "#Addestriamo il modello di clustering:\n",
    "model = KMeans(n_clusters=3)\n",
    "model.fit(X_scaled)\n",
    "\n",
    "#Aggiungiamo le predizioni al dataset:\n",
    "playstore['Cluster'] = model.predict(X_scaled)\n",
    "\n",
    "#Visualizziamo i cluster:\n",
    "plt.scatter(playstore['nr/nd'], playstore['Rating'], c=playstore['Cluster'], cmap='viridis')\n",
    "plt.xlabel('nr/nd')\n",
    "plt.ylabel('Rating')\n",
    "plt.title('Rating vs nr/nd')\n",
    "plt.show()\n",
    "\n",
    "#Visualizziamo i centroidi dei cluster:\n",
    "centroids = scaler.inverse_transform(model.cluster_centers_)\n",
    "plt.scatter(playstore['nr/nd'], playstore['Rating'], c=playstore['Cluster'], cmap='viridis')\n",
    "plt.scatter(centroids[:, 0], centroids[:, 1], marker='x', color='red', s=100)\n",
    "plt.xlabel('nr/nd')\n",
    "plt.ylabel('Rating')\n",
    "plt.title('Rating vs nr/nd')\n",
    "plt.show()\n",
    "\n",
    "#Visualizziamo il numero di app per cluster:\n",
    "playstore['Cluster'].value_counts()\n",
    "\n",
    "#Visualizziamo le statistiche per ogni cluster:\n",
    "playstore.groupby('Cluster').describe()\n",
    "\n",
    "#Visualizziamo le app di ogni cluster:\n",
    "playstore[playstore['Cluster'] == 0].head()\n",
    "\n",
    "playstore[playstore['Cluster'] == 1].head()\n",
    "\n",
    "playstore[playstore['Cluster'] == 2].head()"
   ]
  }
 ],
 "metadata": {
  "kernelspec": {
   "display_name": "Python 3 (ipykernel)",
   "language": "python",
   "name": "python3"
  },
  "language_info": {
   "codemirror_mode": {
    "name": "ipython",
    "version": 3
   },
   "file_extension": ".py",
   "mimetype": "text/x-python",
   "name": "python",
   "nbconvert_exporter": "python",
   "pygments_lexer": "ipython3",
   "version": "3.10.12"
  }
 },
 "nbformat": 4,
 "nbformat_minor": 5
}
